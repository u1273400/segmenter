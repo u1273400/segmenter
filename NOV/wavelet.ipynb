{
 "cells": [
  {
   "cell_type": "markdown",
   "metadata": {},
   "source": [
    "## Wavelet Notes\n",
    "\n",
    "### Mother Wavelet\n",
    "Has the following properties\n",
    "1. The Function integrates to zero $$ \\int_{-\\infty}^\\infty\\psi(t)dt=0 - - - -\\dots(1) $$\n",
    "2. It is square integrable or, equivalently, has finite energy: $$ \\int_{-\\infty}^\\infty|\\psi(t)|^2 dt < \\infty - - - - \\dots(2)$$\n",
    "\n",
    "In addition admissibility conditionis required to derive an inverse wavelet tranform however, these two properties suffice for a Continuous Wavelet Transform CWT.  Property 1 is suggestive of a function that is oscillatory or has a wavy appearance. Property 2 implies that most of the energy in $\\psi(t)$ is confined to a fineite duration.  Thus, in contrast to a sinusoidal function, it is a \"small wave\" or wavelet.  For example a Morlet wavelet is constructed by modulating a sinusoidal function by a Gaussian function, thus confining most of the energy to a finite interval. For the real value Morlet wavelet $$ \\psi(t)=e^{-t^2}cos\\left(\\pi\\sqrt{\\frac{2}{ln 2}}t\\right) - - - - \\dots(3) $$ More than 99% of the total energy is contained within the interval $|t|\\lt 2.5sec$."
   ]
  },
  {
   "cell_type": "code",
   "execution_count": null,
   "metadata": {
    "collapsed": true
   },
   "outputs": [],
   "source": []
  }
 ],
 "metadata": {
  "kernelspec": {
   "display_name": "R",
   "language": "R",
   "name": "ir"
  },
  "language_info": {
   "codemirror_mode": "r",
   "file_extension": ".r",
   "mimetype": "text/x-r-source",
   "name": "R",
   "pygments_lexer": "r",
   "version": "3.2.2"
  }
 },
 "nbformat": 4,
 "nbformat_minor": 0
}
