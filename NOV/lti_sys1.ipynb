{
 "cells": [
  {
   "cell_type": "markdown",
   "metadata": {},
   "source": [
    "## LTI Systems\n",
    "\n",
    "Linearity implies superposition, and time-invariance implies that properties of the system do not change with time.  Two of the most important concepts associated with discrete-time LTI systems are linear convolution and difference equations.\n",
    "\n",
    "### Linear Convolution\n",
    "\n",
    "Linear convolution is a natural process of LTI systems.  It defines the input-output relation of the system and is defined as:\n",
    "$$y(n)=x(n)\\ast h(n)$$\n",
    "where $\\ast$ symbol denotes the convolution process, x(n) is the system input, y(n) is the system output, and h(n) is the impulse response of the system.  The impule response is the output of the system, when the input $x(n)=\\delta(n)$, the unit impulse.  The actual convolution process is defined:\n",
    "\n",
    "$$y(n)=\\sum_{k=-\\infty}^\\infty x(k)h(n-k)- - - -\\dots(1)$$"
   ]
  },
  {
   "cell_type": "markdown",
   "metadata": {},
   "source": [
    "for all values of n.  Convolution can be performed using the sliding tape method, as shown below, or more practically using computer software, as will be described below.\n",
    "\n",
    "#### Example\n",
    "Determine the linear convolution of the two discrete-time sequences, x(n) and h(n), given by\n",
    "$$\\begin{aligned}x(n)&=\\begin{bmatrix}1&1&1&1\\end{bmatrix} \\\\\n",
    "                h(n)&=\\begin{bmatrix}1&2&3\\end{bmatrix}\n",
    "    \\end{aligned}$$"
   ]
  },
  {
   "cell_type": "markdown",
   "metadata": {},
   "source": [
    "#### Solution\n",
    "\n",
    "The sliding tape method can be done by hand and calculation, if the number of points in both sequences is quite small.  The procedure is as follos\n",
    "- Write the sequence x(m), h(m), and h(-m) as shown below.  The sequence h(-m) is obtained by mirroring the sequence h(m) about the m=0 axis.  Then the dot product of the vectors x(m) and h(-m) gives the convolution output y(0).\n",
    "$$\\begin{aligned}\n",
    "    x(m)&=\\begin{bmatrix}0&0&0&1&1&1&1\\end{bmatrix} \\\\\n",
    "    h(m)&=\\begin{bmatrix}0&0&0&1&2&3&0\\end{bmatrix} \\\\\n",
    "    h(-m)&=\\begin{bmatrix}0&3&2&1&0&0&0\\end{bmatrix};y(0)=1 \n",
    "\\end{aligned}$$"
   ]
  },
  {
   "cell_type": "markdown",
   "metadata": {
    "collapsed": true
   },
   "source": [
    "- The zeros are introduced in x(m) and h(m) sequences to include the negative time axis, which is required to generate h(-m) sequence.\n",
    "- Similarly, the next term in the table below, h(1-m), is obtained by shifting (-m) by one step to the right.  The dot product of the vectors x(m) and h(1-m) gives the convolution output y(1).\n",
    "$$h(1-m)=\\begin{bmatrix}0&0&3&2&1&0&0\\end{bmatrix};y(1)=3$$"
   ]
  },
  {
   "cell_type": "markdown",
   "metadata": {},
   "source": [
    "- The process is continued until the output y(n) remains at zero\n",
    "$$\\begin{aligned}\n",
    "    x(2-m)&=\\begin{bmatrix}0&0&0&3&2&1&0\\end{bmatrix};y(2)=6 \\\\\n",
    "    h(3-m)&=\\begin{bmatrix}0&0&0&0&3&2&1\\end{bmatrix};y(3)=6 \\\\\n",
    "    h(4-m)&=\\begin{bmatrix}0&0&0&0&0&3&2\\end{bmatrix};y(4)=5 \\\\\n",
    "    h(5-m)&=\\begin{bmatrix}0&0&0&0&0&0&3\\end{bmatrix};y(5)=3 \n",
    "\\end{aligned}$$"
   ]
  },
  {
   "cell_type": "markdown",
   "metadata": {},
   "source": [
    "- Any more shift in the sequence h(-m) will result in a zero output Hence the output vector is:\n",
    "$$y(n)=\\begin{bmatrix}1&3&6&6&5&3\\end{bmatrix}$$\n",
    "- Note that the length of the output vector y(n)=[length of x(n)]+[length of the h(n)]-1=4+3-1=6.  This is the general law of linear convolution."
   ]
  },
  {
   "cell_type": "code",
   "execution_count": null,
   "metadata": {
    "collapsed": true
   },
   "outputs": [],
   "source": []
  }
 ],
 "metadata": {
  "kernelspec": {
   "display_name": "R",
   "language": "R",
   "name": "ir"
  },
  "language_info": {
   "codemirror_mode": "r",
   "file_extension": ".r",
   "mimetype": "text/x-r-source",
   "name": "R",
   "pygments_lexer": "r",
   "version": "3.2.2"
  }
 },
 "nbformat": 4,
 "nbformat_minor": 0
}
