{
 "cells": [
  {
   "cell_type": "markdown",
   "metadata": {},
   "source": [
    "## Lithium-Ion Battery Model\n",
    "\n",
    "The schematic is shown in figure 1 below.  The one-dimensional section from the negative current collector (x=0) to the positive current collector (x=L) conists of three domains: the negative composite electrode (width $\\delta_-$), separator (width $\\delta_{sep}$), and positive composite electrode (width $\\delta_+$).  During discharge, positively charged lithium ions diffuse to the surface of the $Li_xC_6$ active material particules that constitute the solid phae in the negative electrode.  They undergo electrochemical reaction and transfer into a liquid or gelled electrolyte solution that makes up the electrolyte phase.  The lithium ions travel through the electrolyte solution via diffusion and ionic conduction to the positive electrode, where they react and diffuse towards the inner regions of metal oxide active material particles that constitute the solid phae of the positive electrode.  The porous seperator acts as an electronic insulator forcing electrons to follow an opposite path through an external circuit or load.  \n",
    "![Figure 1](https://selene.hud.ac.uk/u1273400/images/seg_media/lionm.PNG)\n",
    "**Figure 1:** Li-ion cell model"
   ]
  },
  {
   "cell_type": "markdown",
   "metadata": {},
   "source": [
    "Four PDEs govern the dynamics of Li-ion batteries.  Conservation of species and charge in the electrode and electrolyte.  They are linked by the Butler-Volmer equaiton.  The model is pseudo-two-dimensional because one dimension is x and the other is the radial dimension in the spherical particles r.  The particles are assumed to be distributed throughout the electrodes and modeled as a particles embedded in the electrode at each value of x.  Thus, at each x there is also a radial coordinate r corresponding to the particle embedded at that point.  The embedded particles couple to the electrod through the r direction and the electrode is coupled through the x-direction but there is not a direct path for ions to flow from inside one particle to an adjacent particle."
   ]
  },
  {
   "cell_type": "markdown",
   "metadata": {
    "collapsed": true
   },
   "source": [
    "### Conservation of Species\n",
    "\n",
    "The composite electrodes are modeled using porous electrode theory, meaning that the solid phase particles are assumed to be uniformly distributed throughout the electrode.  Conservation of lithium in a single spherical active material particle by Ficks's law of diffusion.\n",
    "$$\\frac{\\partial c_s}{\\partial t}=\\frac{D_s}{r^2}\\frac{\\partial}{\\partial r}\\left(r^2\\frac{\\partial c_s}{\\partial r}\\right)\\text{ for }r \\in (0,R_s) - - - -\\dots(1)$$\n",
    "where $r \\in(0,R_s)$ is the radial, $c_s(r,t)$ is the concentration of lithium ions in the particle as a function of radial position and time, and $D_s$ is the solid-phase diffusion coefficient.\n",
    "\n",
    "We use the subscripts \"s\", \"e\" and \"s,e\" to indicate solid phase, electrolyte phae and solid-electrolyte interface respectively.  The boundary conditions are\n",
    "$$\\left.\\frac{\\partial c_s}{\\partial r}\\right|_{r=0}=0 - - - -\\dots(2)$$\n",
    "$$\\left.D_s\\frac{\\partial c_s}{\\partial r}\\right|_{r=R_s}=-\\frac{j}{F} - - - - \\dots(3)$$\n",
    "where j(x,t) is the rate of electrochemical reaction at the particle surface (with j>0 indicating ion discharge) and F (96,487 C/mol) is the Faraday constant. Equations (1)-(3) are applied on a continuum basis across each electrode, giving solid-phae concentration a two-dimensional spatial dependency; that is, $c_s(x,r,t)$.  The electrochemical model depnds only upon concentration at the particle surface, $c_{s,c}(x,t)=c_s(x,R_s,t)$."
   ]
  },
  {
   "cell_type": "markdown",
   "metadata": {},
   "source": [
    "Conservation of lithium in the electrolyte phase yields\n",
    "$$\\epsilon_c\\frac{\\partial c}{\\partial t}=D_c^{eff}\\frac{\\partial^2c_c}{\\partial x^2}+\\frac{a_s(1-t_+^o)}{F}j \\text{ for }x\\in(0,L), - - - -\\dots(4)$$\n",
    "where $c_c(x,t)$ is the electrolyte phase lithium concentration, $\\epsilon_c$ is the electrolyte phase volume fraction, $t_+^o$ is the transference number of $Li^+$ with respect to the velocity of solvent, and $a_s$ the specific interfacial surface area.  For the spherical active material particles occupying electrode volume fraction $\\epsilon_s$, the interfacial surface area is $a_s=3\\epsilon_s/R_s$.  The effective diffusion coefficient is calculated from a reference coefficient using the Bruggerman relation $D_c^{eff}=D_c\\epsilon_c^p$ that accounts for the tortuous path that $Li^+$ ions follow through the porous media.  We assume that $\\epsilon_c,t_+^o, \\text{ and }D_c^{eff}$ are constant within the negative electrode, separator, and positive electrode but can have different values in these three domains.  Equation (4) has zero-flux boundary conditions at the current collectors:\n",
    "$$\\left.\\frac{\\partial c_c}{\\partial x}\\right|_{x=0}=\\left.\\frac{\\partial c_c}{\\partial x}\\right|_{x=L}=0 - - - - \\dots(5)$$"
   ]
  },
  {
   "cell_type": "markdown",
   "metadata": {},
   "source": [
    "### Conservation of Charge"
   ]
  }
 ],
 "metadata": {
  "kernelspec": {
   "display_name": "Python 2",
   "language": "python",
   "name": "python2"
  },
  "language_info": {
   "codemirror_mode": {
    "name": "ipython",
    "version": 2
   },
   "file_extension": ".py",
   "mimetype": "text/x-python",
   "name": "python",
   "nbconvert_exporter": "python",
   "pygments_lexer": "ipython2",
   "version": "2.7.10"
  }
 },
 "nbformat": 4,
 "nbformat_minor": 0
}
