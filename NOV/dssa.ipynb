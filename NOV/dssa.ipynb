{
 "cells": [
  {
   "cell_type": "markdown",
   "metadata": {},
   "source": [
    "## STATE VARIABLE ANALYSIS\n",
    "### Dynamic Models of Mechanical Systems\n",
    "\n",
    "### Translational motion\n",
    "$$ F=ma - - - - \\dots(1)$$\n",
    "where\n",
    "- F = the vector sum of all forces applied to each body in a system, Newtons (N) or pounds (lb)\n",
    "- a = The vector acceleration of each body with respect to an internal reference frame (i.e. that is neither accelerating nor rotating with respect to the stars) often called inertial acceleration m/sec<sup>2</sup> or ft/sec<sup>2</sup>\n",
    "- m = mass of the body, kg or slug."
   ]
  },
  {
   "cell_type": "markdown",
   "metadata": {},
   "source": [
    "#### Example 1: Cruise Control Model\n",
    "1. Write the equations of motion for the speed and forward motion of the car shown in figure 1 assuming that the engine imparts a force u as shown.  Take the Laplace transform of the resulting differential equation and find the transfer function between the input u and output v.\n",
    "2. Use MATLAB to find the response of the velocity of the car for the case in which the input jumps from being u=0 at time t=0 to a constant u=500N thereafter.  Assume that the car mass m is 1000 kg and viscous drag coefficient, b=50 N-sec/m\n",
    "\n",
    "![Figure 1](https://selene.hud.ac.uk/u1273400/images/seg_media/d1.PNG)\n",
    "**Figure 1** Use of free-body diagram in applying Newton's Law"
   ]
  },
  {
   "cell_type": "markdown",
   "metadata": {},
   "source": [
    "#### Solution\n",
    "1. Equations of motion:  For simplicity we assume that the rotational inertia of the wheels is negligible and that there is frection retarding the motion of the car that is proportional to the car's speed with proportionality constant, b. In this simple model, a linear approximation is used. The car can then be approximated for modeling purposes using the free-body diagram seen in Figure 2 which defines coordinates, shows all forces acting on the body (heavy lines), and indicates the acceleration (dashed lines).\n",
    "![Figure 2](https://selene.hud.ac.uk/u1273400/images/seg_media/d2.PNG)\n",
    "**Figure 2**: Free-body diagram for cruise control"
   ]
  },
  {
   "cell_type": "markdown",
   "metadata": {},
   "source": [
    "The coordinate of the car's position x is the distance from the reference line shown and is chosen so that positivie is to the right.  Note that in this case the inertial acceleration is simply the second derivitive of x (i.e., $a=\\ddot{x}$) because the car position is measured with respect to an inertial reference.  The equation of motion is found using equation (1).  The friction acts opposite to the direction of motion; therefore it is opposite the direction of positive motion and entered as a negative force in equation (1). The result is:\n",
    "$$u-b\\dot{x}=m\\ddot{x} - - - - \\dots(2) $$\n",
    "or\n",
    "$$\\ddot{x}+\\frac{b}{m}\\dot{x}=\\frac{u}{m} - - - - \\dots(3)$$\n",
    "\n",
    "For the case of the automotive cruise control where the variable of interest is the speed, v(=\\dot{x}), the equation of motion becomes\n",
    "$$\\dot{v}+\\frac{b}{m}v=\\frac{u}{m} - - - -\\dots(4)$$"
   ]
  },
  {
   "cell_type": "markdown",
   "metadata": {},
   "source": [
    "The solution of such an equation we assume the form $v=V_0e^{st}$ given an input of the form $u=U_0e^{st}$. Then since $\\dot{v}=sV_0e^{st}$, the differential equation can be written as\n",
    "$$\\left(s+\\frac{b}{m}\\right)V_0e^{st}=\\frac{1}{m}U_0e^{st} - - - -\\dots(5)$$\n",
    "\n",
    "The $e^{st}$ term cancels out, and we find that\n",
    "$$\\frac{V_0}{U_0}=\\frac{\\frac{1}{m}}{s+\\frac{b}{m}} - - - - \\dots(6)$$\n",
    "Usually written as\n",
    "$$\\frac{V(s)}{U(s)}=\\frac{\\frac{1}{m}}{s+\\frac{b}{m}} - - - - \\dots(7)$$\n",
    "This expression for the differential equation given in equation (4) is called the transfer function. Note that we have substituted the term s for the differential operator d/dt."
   ]
  },
  {
   "cell_type": "markdown",
   "metadata": {},
   "source": [
    "2) **Time Response**: \n"
   ]
  },
  {
   "cell_type": "markdown",
   "metadata": {},
   "source": [
    "\n",
    "### Rotational motion\n",
    "Application of Newton's law to one-dimensional rotational systems requires that equation (1) be modified to\n",
    "$$M=I\\alpha - - - -\\dots(8)$$\n",
    "where\n",
    "- M = the sum of all external moments about the center of mass of a body, N-m\n",
    "- I = the body's mass moment of inertia about its center of mass, $kg-m^2$ or $slug-ft^2$\n",
    "- $\\alpha$ = the angular acceleration of the body, $rad/sec^2$"
   ]
  },
  {
   "cell_type": "markdown",
   "metadata": {},
   "source": [
    "#### Example 2: Satellite Attitude Control Model\n",
    "![Figure 3](https://selene.hud.ac.uk/u1273400/images/seg_media/d3.PNG)\n",
    "**Figure 3**: Communications satellite"
   ]
  },
  {
   "cell_type": "markdown",
   "metadata": {},
   "source": [
    "Satellites as shown in Figure 3, usually require attitude control so that the antennas, sensors and solar panels are properly oriented. Antennas are usually pointed toward a partiular location on earth, while solar panels need to be oriented toward the sun for maximum power generation.  To gain insight into the full three-axis attitude control system, it is helpful to consider one axis at a time. Write the equations of motion for one axis of this system and show how they would be depicted in a block diagram.  In addition, determine the transfer function of this system and construct the system as if it were to be evaluated via MATLAB's SIMULINK.\n",
    "\n",
    "#### Solution\n",
    "Given that for Figure 3 the motion is allowed only about the axis perpendicular to the page.  The angle $\\theta$ that describes the satellite orientation must be measured with respect to an inertial reference - that is, a reference that has no angular acceleration.  The control force comes from reaction jets that produce a moment of $F_cd$ aout the mass center.  There may also be small distrubance moment $M_D$ on the satellite, which arise primarily from solar pressure acting on any assymetry in the solar panels.  Applying equation (8) yields the equation of motion\n",
    "$$F_cd+M_D=I\\ddot{\\theta} - - - -\\dots(9)$$"
   ]
  },
  {
   "cell_type": "markdown",
   "metadata": {},
   "source": [
    "The output of this system, $\\theta$, results from integrating the sum of input torques twice; hence this type of system is often referred to as the **double-integrator plant**.  The transfer function can be obtained similar to equation (7). Therefore\n",
    "$$ \\frac{\\Theta(s)}{U(s)}=\\frac{1}{I}\\frac{1}{s^2} - - - -\\dots(10)$$\n",
    "where $U=F_cd+M_D$.  \n",
    "![Figure 4](https://selene.hud.ac.uk/u1273400/images/seg_media/d4.PNG)\n",
    "**Figure 4**: Block diagrams representing equations (9) and (10)\n",
    "\n",
    "Figure 4 shows a block diagram representing equation (9) in the upper half and (10) in the bottom diagram.\n",
    "![Figure 5](https://selene.hud.ac.uk/u1273400/images/seg_media/d5.PNG)\n",
    "**Figure 5**: Simulink diagram representing the double integrator plant\n"
   ]
  },
  {
   "cell_type": "markdown",
   "metadata": {},
   "source": []
  },
  {
   "cell_type": "markdown",
   "metadata": {},
   "source": [
    "### State Space Analysis Objectives\n",
    "1. Development of state-variable equations from block diagrams\n",
    "2. Solve for dynamic response using hand and computer analysis\n",
    "3. Control Design Via State Space modelling\n",
    "4. Integral control in state space\n",
    "5. Advnaced methods \\*\n",
    "\n",
    "#### Design Steps\n",
    "1. Select closed loop pole locations and develop the control law for the closed-loop system that corresponds to satisfactory dynamic response\n",
    "2. Design an estimator\n",
    "3. Combine the control law and estimator\n",
    "4. Introduce the reference input"
   ]
  },
  {
   "cell_type": "markdown",
   "metadata": {},
   "source": [
    "### System Description in State-Space\n",
    "The motion of any finite dynamic system can be expressed as a set of first order ODEs. This is often referred to as the state-variable representation.  For example, the use of Newton's law and the free-body diagram typically lead to a 2nd order ODE - that is having a second derivitive."
   ]
  }
 ],
 "metadata": {
  "kernelspec": {
   "display_name": "R",
   "language": "R",
   "name": "ir"
  },
  "language_info": {
   "codemirror_mode": "r",
   "file_extension": ".r",
   "mimetype": "text/x-r-source",
   "name": "R",
   "pygments_lexer": "r",
   "version": "3.2.2"
  }
 },
 "nbformat": 4,
 "nbformat_minor": 0
}
