{
 "cells": [
  {
   "cell_type": "markdown",
   "metadata": {},
   "source": [
    "## Battery Models\n",
    "\n",
    "### Lithium-Ion Battery Model\n",
    "\n",
    "The schematic is shown in figure 1 below.  The one-dimensional section from the negative current collector (x=0) to the positive current collector (x=L) conists of three domains: the negative composite electrode (width $\\delta_-$), separator (width $\\delta_{sep}$), and positive electrode (width $\\delta_+$)"
   ]
  },
  {
   "cell_type": "markdown",
   "metadata": {},
   "source": [
    "## Electrochemistry\n",
    "\n",
    "### Lithium-Ion\n",
    "\n",
    "Li-ion batteries are commanding a greater market share owing to their high energy density, which makes them attractive for applications where weight or volume are important (e.g., HEVs).  They have long cycle life (> 500 cycles) and low self-discharge rate (<10% per month).  High initial cost hs limiited their us in price-sensitive applications, but new chemistries and economies of scale promise to reduce the cost of Li-ion batteries in the future.  \n",
    "\n",
    "![Figure 1](https://selene.hud.ac.uk/u1273400/images/seg_media/lion.PNG)\n",
    "**Figure 1  Li-ion Schematic**"
   ]
  },
  {
   "cell_type": "markdown",
   "metadata": {},
   "source": [
    "Figure 1 above shows a schematic diagram of a Li-ion cell.  A lithum metal oxide ($LiMO_2$), where M stands for a metal such as Cobalt (Co), and lithiated carbon ($Li_xC$) are the active materials in the positive and negative electrodes, respectively.  The metal in the positive electrode is a transition metal, typically Co.  The active materials are bonded to metal-foil current collectors at both ends of the cell and electrically isolated by a microporous polymer separator film or gel-polymer.  Liquid or gel-polymer electrolytes enable lithium ions ($Li^+$) to diffuse between the positive and negative electrodes.  The lithium ions insert into or deinsert from the active materials via an intercalation process."
   ]
  },
  {
   "cell_type": "markdown",
   "metadata": {},
   "source": [
    "In the positive electrode during charge, the active material is oxidized and lithium ion are de-intercalated as follows:\n",
    "$$  Li_{1-x}CoO_2+xLI^++xe^-\\underset{charge }{\\overset{discharge}{\\rightleftharpoons}}LiCoO_2 - - - -\\dots(1)$$"
   ]
  },
  {
   "cell_type": "markdown",
   "metadata": {},
   "source": [
    "In the negative electrode during charge, the active material is reduced and lithium ions that migrate from the positive electrode and through the electrolyte and separator are intercalated in the reaction\n",
    "$$  Li_xC\\underset{charge }{\\overset{discharge}{\\rightleftharpoons}}C+xLi^++xe^- - - - -\\dots(2)$$"
   ]
  },
  {
   "cell_type": "markdown",
   "metadata": {},
   "source": [
    "Equations (1) and (2) reverse for discharge.  These reactions produce a theoretical cell voltage of 4.1V, much higher than either the Ni-MH or Pb-acid cells.\n",
    "\n",
    "The power and energy capacity of Li-ion batteries fade with cycling.  Power fade is primarily due to an increase in internal resistance or impedance.  Internal resistance causes ohmic losses that waste energy, produce heat, and accelerate ageing.  In addition to ohmic energy losses, Li-ion batteries lose capacity over time due to degradation of the positive and negative electrodes and the electrolyte.  The degradation mechanisms are complex, coupled, and dependent on cell chemistry, design, and manufacturer.  In the negative electrode, the dominant ageing mechanisms are:\n",
    "1. **Solid-electrolyte interface (SEI) layer.** The SEI layer grows on the negative"
   ]
  }
 ],
 "metadata": {
  "kernelspec": {
   "display_name": "R",
   "language": "R",
   "name": "ir"
  },
  "language_info": {
   "codemirror_mode": "r",
   "file_extension": ".r",
   "mimetype": "text/x-r-source",
   "name": "R",
   "pygments_lexer": "r",
   "version": "3.2.2"
  }
 },
 "nbformat": 4,
 "nbformat_minor": 0
}
