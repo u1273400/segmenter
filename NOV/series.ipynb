{
 "cells": [
  {
   "cell_type": "markdown",
   "metadata": {},
   "source": [
    "\n",
    "## SEQUENCES AND SERIES\n",
    "\n",
    "### Objectives\n",
    "1. Manipulate arithmetic and geometric series\n",
    "2. Manipulate series of powers of natural numbers\n",
    "3. Determine the limiting values of arithmetic and geometric series\n",
    "4. Determine the limiting values of simple indeterminate forms\n",
    "5. Apply various convergence tests to infinite series\n",
    "6. Distinguish between absolute and conditional convergence\n",
    "\n",
    "### Arithmetic Series\n",
    "For an arithmetic series a+(a+d)+(a+2d)+(a+3d)+...\n",
    "$$ \\begin{aligned}\n",
    " u_n=a+(n-1)d  & & S_n=\\frac{n}{2}[2a+(n-1)d]\n",
    " \\end{aligned}   $$"
   ]
  },
  {
   "cell_type": "markdown",
   "metadata": {},
   "source": [
    "### Geometric Series\n",
    "For a geometric series $ a+ar+ar^2+ar^3+\\dots $\n",
    "$$ \\begin{aligned}\n",
    "u_n=ar^{n-1}  &  &  S_n=\\frac{a(1-r^n)}{1-r}\n",
    " \\end{aligned} $$\n",
    "\n",
    "### Powers of natural numbers\n",
    "\n",
    "$$ \n",
    "\\begin{aligned}\n",
    "\\sum_{r=1}^n{r } & =\\frac{n(n+1)}{2}\\\\   \n",
    "\\sum_{r=1}^n{r^2} & =\\frac{n(n+1)(2n+1)}{6} \\\\   \n",
    "\\sum_{r=1}^n{r^3}  & =\\big\\{\\frac{n(n+1)}{2}\\big\\}^2\n",
    "\\end{aligned} \n",
    "$$\n"
   ]
  },
  {
   "cell_type": "markdown",
   "metadata": {},
   "source": [
    "### Test for Convergence\n",
    "Given an infinite series  $ S_n=u_1+u_2+u_3+\\dots+u_n+\\dots $\n",
    "[comment]: <> (If lim┬(n→∞)⁡〖u_n 〗=0 the series may be convergent)\n",
    "[comment]: <> (If lim┬(n→∞)⁡〖u_n 〗≠0 the series may be convergent)\n",
    "- If $\\lim_{n\\rightarrow\\infty}{S_n=0}$ the series may be convergent\n",
    "- If $\\lim_{n\\rightarrow\\infty}{S_n=}$  not a definite value, series is divergent."
   ]
  },
  {
   "cell_type": "markdown",
   "metadata": {},
   "source": [
    "#### COMPARISON TEST\n",
    "If series is comparable with\n",
    "$$ \\frac{1}{1^p}+\\frac{1}{2^p} +\\frac{1}{3^p} +\\frac{1}{4^p} +⋯+\\frac{1}{n^p} = \\sum_{n=1}^\\infty{\\frac{1}{n^p}} $$ for p>1 then the series converges else if p≤1 the series diverges"
   ]
  },
  {
   "cell_type": "markdown",
   "metadata": {},
   "source": [
    "#### D’ALEMBERT’S RATIO TEST\n",
    "[comment]: <> (If lim┬(n→∞)⁡|u_(n+1)/u_n |<1 the series converges)\n",
    "[comment]: <> (If lim┬(n→∞)⁡|u_(n+1)/u_n |>1 the series diverges)\n",
    "[comment]: <> (If lim┬(n→∞)⁡|u_(n+1)/u_n |=1 the test cannot be applied)\n",
    "- If $\\lim_{n\\rightarrow\\infty}{\\frac{u_{n+1}}{u_n}}<1, $ series converges\n",
    "- If $\\lim_{n\\rightarrow\\infty}{\\frac{u_{n+1}}{u_n}}>1, $ series diverges\n",
    "- If $\\lim_{n\\rightarrow\\infty}{\\frac{u_{n+1}}{u_n}}=1, $  inconclusive"
   ]
  },
  {
   "cell_type": "markdown",
   "metadata": {},
   "source": [
    "#### Generally\n",
    "- If $ \\sum{|u_n|} $ converges, $ \\sum{u_n} $\n",
    "- If $ \\sum{|u_n|} $ diverges, but $ \\sum{u_n} $ converges, then  $ \\sum{u_n} $ is conditionally convergent"
   ]
  },
  {
   "cell_type": "markdown",
   "metadata": {},
   "source": [
    "#### Example 1\n",
    "Find the range of values of x for which the series is convergent or divergent $$ 1+\\frac{1}{2}+\\frac{1}{3}+\\frac{1}{4}+\\frac{1}{5}+\\frac{1}{6}+\\dots $$\n"
   ]
  },
  {
   "cell_type": "markdown",
   "metadata": {},
   "source": [
    "#### Solution\n",
    "Because the series does not tend to a definite value it diverges\n",
    "\n",
    "Proof:\n",
    "because \n",
    "$$ \\left\\{\\frac{1}{3}+\\frac{1}{4}\\right\\}>\\left\\{\\frac{1}{4}+\\frac{1}{4}\\right\\}=\\frac{1}{2} $$"
   ]
  },
  {
   "cell_type": "markdown",
   "metadata": {},
   "source": [
    "and\n",
    "$$ \\left\\{\\frac{1}{5}+\\frac{1}{6}+\\frac{1}{7}+\\frac{1}{8}\\right\\}>\\left\\{\\frac{1}{8}+\\frac{1}{8}+\\frac{1}{8}+\\frac{1}{2}\\right\\}=\\frac{1}{2} $$"
   ]
  },
  {
   "cell_type": "markdown",
   "metadata": {},
   "source": [
    "So if \n",
    "$$ S_n>1+\\frac{1}{2}+\\frac{1}{2}+\\frac{1}{2}+\\frac{1}{2}+\\frac{1}{2}+\\dots $$\n",
    "$ \\therefore $ $ S_\\infty=\\infty $"
   ]
  },
  {
   "cell_type": "markdown",
   "metadata": {},
   "source": [
    "#### Example \n",
    "Deterimine if the folowing series is convergent or divergent $$ 1+\\frac{1}{3}+\\frac{1}{9}+\\frac{1}{27}+\\dots $$\n"
   ]
  },
  {
   "cell_type": "markdown",
   "metadata": {},
   "source": [
    "#### Solution\n",
    "For a G.P.,  $ S_n=\\frac{a-r^n}{1-r} $, so in this case since a=1 and $r=\\frac{1}{3} $, we have\n",
    "$$ \n",
    "\\begin{aligned}\n",
    "S_n=\\frac{1\\left(1-\\frac{1}{3^n}\\right)}{1-\\frac{1}{3}}  \n",
    "=\\frac{1-\\frac{1}{3^n}}{\\frac{2}{3}}=\\frac{3}{2}\\left(1-\\frac{1}{3^n}\\right) \\\\ \n",
    "\\therefore\\text{ as n}\\rightarrow\\infty, \\frac{1}{3^n}\\rightarrow 0\\text{ } \\therefore \\lim_{n\\rightarrow\\infty}S_n=\\frac{3}{2}\n",
    "\\end{aligned}\n",
    "$$ \n",
    "Therefore the series converges because S<sub>n</sub> tends to a definite value"
   ]
  },
  {
   "cell_type": "markdown",
   "metadata": {},
   "source": [
    "#### Example \n",
    "Test if the series $$ 1+\\frac{1}{2^2}+\\frac{1}{3^3}+\\frac{1}{4^4}+\\dots+\\frac{1}{n^n}+\\dots $$ is convergent or divergent\n"
   ]
  },
  {
   "cell_type": "markdown",
   "metadata": {},
   "source": [
    "#### Solution\n",
    "Compare with an appropriate series that is known to converge such as\n",
    "$$ 1+\\frac{1}{2^2}+\\frac{1}{2^3}+\\frac{1}{2^4}+\\dots+\\frac{1}{2^n}+\\dots $$\n",
    "Since $ \\frac{1}{3^3}<\\frac{1}{2^3};\\frac{1}{4^4}<\\frac{1}{2^4} $ and so on for all other further analogous terms then therefore the series also converges"
   ]
  },
  {
   "cell_type": "markdown",
   "metadata": {},
   "source": [
    "#### Example \n",
    "Test if the following series is convergent or divergent $$ 1+\\frac{3}{2}+\\frac{5}{2^2}+\\frac{7}{2^3}+\\dots $$\n"
   ]
  },
  {
   "cell_type": "markdown",
   "metadata": {},
   "source": [
    "#### Solution\n",
    "If we look for a pattern of the numerator/denomenator we see that the nth term numerator is $ 2n-1  $ and the nth term denomenator is $ 2^{n-1} $.  Therefore the nth and n+1 term is respectively given by\n",
    "$$ \\begin{aligned}\n",
    "u_n & =\\frac{2n-1}{2^{n-1}} \\\\ \n",
    "u_{n+1} & = \\frac{2(n+1)-1}{2^{(n+1)-1}} =\\frac{2n+1}{2^n} \n",
    "\\end{aligned} $$\n",
    "$$\n",
    "\\therefore \\frac{u_{n+1}}{u_n}=\\frac{2n+1}{2^n}.\\frac{2^{n-1}}{2n-1}=\\frac{1}{2}.\\frac{2n+1}{2n-1}\n",
    "$$"
   ]
  },
  {
   "cell_type": "markdown",
   "metadata": {},
   "source": [
    "We now have to find the limiting value of this ratio as $ n \\rightarrow \\infty $. Since the top and bottom values have the independent variable we therefore divide through by the independent variable and substitute infinity."
   ]
  },
  {
   "cell_type": "markdown",
   "metadata": {},
   "source": [
    "$$\n",
    "\\therefore \\lim_{n\\rightarrow\\infty}\\frac{u_{n+1}}{u_n}= \\lim_{n\\rightarrow\\infty}\\frac{1}{2}.\\frac{2n+1}{2n-1}=\n",
    "\\lim_{n\\rightarrow\\infty}\\frac{1}{2}.\\frac{2+\\frac{1}{n}}{2-\\frac{1}{n}}=\\frac{1}{2}.\\frac{2+0}{2-0}=\\frac{1}{2}\n",
    "$$"
   ]
  },
  {
   "cell_type": "markdown",
   "metadata": {},
   "source": [
    "Because $ \\lim_{n\\rightarrow\\infty}\\frac{u_{n+1}}{u_n}<1  $ we know that the series is convergent"
   ]
  },
  {
   "cell_type": "markdown",
   "metadata": {},
   "source": [
    "#### Example \n",
    "Find the range of values of x for which the series is convergent or divergent $$ 1+x+\\frac{x^2}{2!}+\\frac{x^3}{3!}+\\frac{x^4}{4!}+\\dots $$\n"
   ]
  },
  {
   "cell_type": "markdown",
   "metadata": {},
   "source": [
    "#### Solution\n"
   ]
  },
  {
   "cell_type": "markdown",
   "metadata": {},
   "source": [
    "### MACLAURIN’S SERIES\n",
    "\n",
    "To establish the series, we represent the process of the previous example, but work with a general function, f(x), instead of sin x.  The first derivative of f(x) will be denoted by general f’(x); the second by f’’(x) and the third by f’’’(x); and so on. So let\n",
    "f(x)=a+bx+cx^2+dx^3+ex^4+fx^5+..\n",
    "Put x=0.  Then f(0)=a+0+0+0+0+..\n",
    "i.e. a =  value of the function with x put equal to 0; a=f(0)\n",
    "Differentiate\n",
    "f^'(x) =b+c.2x+d.3x^2+e.4x^3+f.5x^4+..\n",
    "Put x=0. Therefore f’(x)=b+0+0+0+0+.. therefore b=f’(0)\n",
    "Differentiate\n",
    "f(x)=c.2.1+d.3.2x+e.4.3x^2+f.5.4x^3+..\n",
    "Put x=0.  Therefore f’’(0)=c.2! + 0 + 0 + …  Therefore c=f’’(0)/2!  Similarly d = f’’’(0)/3! And e=f’’’’(0)/4!\n",
    "Therefore the Maclaurin’s series is given as\n",
    "f(x)=f(0)+xf^' (0)+x^2/2! f^'' (0)+x^3/3! f^''' (0)+x^4/4! f^iv (0)+..\n"
   ]
  },
  {
   "cell_type": "code",
   "execution_count": null,
   "metadata": {
    "collapsed": true
   },
   "outputs": [],
   "source": []
  }
 ],
 "metadata": {
  "kernelspec": {
   "display_name": "R",
   "language": "R",
   "name": "ir"
  },
  "language_info": {
   "codemirror_mode": "r",
   "file_extension": ".r",
   "mimetype": "text/x-r-source",
   "name": "R",
   "pygments_lexer": "r",
   "version": "3.2.2"
  }
 },
 "nbformat": 4,
 "nbformat_minor": 0
}
