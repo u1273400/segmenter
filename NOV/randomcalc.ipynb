{
 "cells": [
  {
   "cell_type": "markdown",
   "metadata": {},
   "source": [
    "## Random Calculus\n",
    "\n",
    "### Introduction\n",
    "In this section we discuss the concept of conditional time dependence component.  In order to model randomness in signals (noise signals), we introduce the notion of random processes.  Note that the tools are deterministic mathematical constructs; randomness only enters when observations are conducted.  We first state the clasic definition of random processes.\n"
   ]
  },
  {
   "cell_type": "markdown",
   "metadata": {},
   "source": [
    "\n",
    "### Definition 1.  Random Processes\n",
    "*A random (or stochastic) process $\\{X_t,t\\in T\\}$ is a collection of random variables on the same probability space $(\\Omega, \\scriptF,P)$.  The*"
   ]
  },
  {
   "cell_type": "code",
   "execution_count": null,
   "metadata": {
    "collapsed": true
   },
   "outputs": [],
   "source": []
  }
 ],
 "metadata": {
  "kernelspec": {
   "display_name": "R",
   "language": "R",
   "name": "ir"
  },
  "language_info": {
   "codemirror_mode": "r",
   "file_extension": ".r",
   "mimetype": "text/x-r-source",
   "name": "R",
   "pygments_lexer": "r",
   "version": "3.2.2"
  }
 },
 "nbformat": 4,
 "nbformat_minor": 0
}
