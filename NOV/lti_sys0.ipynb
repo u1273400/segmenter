{
 "cells": [
  {
   "cell_type": "markdown",
   "metadata": {},
   "source": [
    "## Linear Time Invariant Systems\n",
    "\n",
    "### Basic Signal Types (Lynn & Fuerst, 1998)\n",
    "\n",
    "Basic signals are simple to describe and generate, and are widely used as test signals for investigating properties of linear processors and systems.  Digital step and impulse functions are among the most important of all basic signals.  The ramp function is rather less so, but since it is closely related to the other two, it will also be described.\n",
    "\n",
    "#### Unit Step \n",
    "The unit step function u[n] is defined as\n",
    "$$\\begin{aligned} u[n]=0, &&n<0 \\\\ u[n]=1&&n\\ge 0 &- - - -\\dots(1)\\end{aligned}$$"
   ]
  },
  {
   "cell_type": "markdown",
   "metadata": {},
   "source": [
    "#### Unit impulse\n",
    "Also known as the unit sample, it consists of an isolated unit-valued sample at n=0, surrounded on both sides by zero and defined as:\n",
    "$$\\begin{aligned} \\delta[n]\\ne0, &&n<0 \\\\ \\delta[n]=1&&n= 0 &- - - -\\dots(2)\\end{aligned}$$"
   ]
  },
  {
   "cell_type": "markdown",
   "metadata": {},
   "source": [
    "u[n] and $\\delta[n]$ are closely related to one another.  u[n] is said to be the running sum of $\\delta[n]$.  If one starts from the left hand side and moves to the right summing the sample values of $\\delta[n]$ we generate the unit step function u[n].\n",
    "$$u[n]=\\sum_{m=-\\infty}^n\\delta[m] - - - -\\dots(3)$$\n",
    "\n",
    "Conversely, we can easily generate $\\delta[n]$ from u[n] using the recurrence formula\n",
    "$$\\delta[n]=u[n]-u[n-1] - - - -\\dots(4)$$\n",
    "\n",
    "Therefore $\\delta[n]$ is referred to as the first-order differnce of u[n]."
   ]
  },
  {
   "cell_type": "markdown",
   "metadata": {},
   "source": [
    "### Unit Ramp\n",
    "\n",
    "The digital ramp signal rises or falls, linearly with the variable n.  It is sometimes used as a test signal, or for approximating practical signal by a set of straight line sections.  The ramp function r[n] is defined as:\n",
    "$$r[n]=nu[n] - - - -\\dots(5)$$\n",
    "\n",
    "Since u[n] is zero for n<0, similar to the ramp function, r[n] is referred to as the running sum of  of u[n], and conversely, u[n] is the first order difference of r[n]."
   ]
  },
  {
   "cell_type": "markdown",
   "metadata": {},
   "source": [
    "## References\n",
    "\n",
    "Lynn, P. A., & Fuerst, W. (1998). Introductory digital signal processing with computer applications (2nd ed.). Chichester: Wiley."
   ]
  }
 ],
 "metadata": {
  "kernelspec": {
   "display_name": "R",
   "language": "R",
   "name": "ir"
  },
  "language_info": {
   "codemirror_mode": "r",
   "file_extension": ".r",
   "mimetype": "text/x-r-source",
   "name": "R",
   "pygments_lexer": "r",
   "version": "3.2.2"
  }
 },
 "nbformat": 4,
 "nbformat_minor": 0
}
