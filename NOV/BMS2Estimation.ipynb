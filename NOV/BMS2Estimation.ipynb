{
 "cells": [
  {
   "cell_type": "markdown",
   "metadata": {},
   "source": [
    "## Estimation\n",
    "\n",
    "As batteries age, their capacity decreases and internal impedences increases.  The degradation mechanism depends on the battery chemistry, manufacturerer and design.  Often, different degradaition mechanisms operate at different stages in battery life.  It can be difficult to differentiate beteen environment (e.g. low or high temperature) and ageing effects.  The SOH is defined as the battery capacity divided by the initial capacity.  After the required break-in period where the capacity can increase, the battery is at 100% SOH. As the battery ages, the SOH steadily decreases until the battery can no longer be used and it has reached its end of life (EOL), typically around 80% SOH.  The energy stored in the battery depends on both SoC and SoH.  Accurate prediction of SOH is needed in addition to accurate SoC estimation to provide users with reliable information to change the control strategy over the life of the battery, maximizing its performance and longevity."
   ]
  },
  {
   "cell_type": "markdown",
   "metadata": {},
   "source": [
    "### State of Charge Estimation\n",
    "\n",
    "To provide precise definition of SOC, we first define the nominal capacity of a cell C to be the maximum number of ampere-hours that can be drawn from a fully charged cell at room temperature and a C/30 rate.  Capacity can also be expressed in units of couloubs.  the remaining capacity $C_\\tau(t)$ is defined as the number of ampere-hours that can be drawn from the cell starting from the current time t, at room temperature, and at C/30 rate. We define\n",
    "$$ SoC = \\frac{C_\\tau(t)}{C} =1-\\frac{1}{C}\\int_0^tI(\\tau)d\\tau- -  - -\\dots(1)$$"
   ]
  },
  {
   "cell_type": "markdown",
   "metadata": {},
   "source": [
    "assuming the initial SoC at t=0 is 100% and I(t) is the applied current with I>0 during discharge."
   ]
  },
  {
   "cell_type": "markdown",
   "metadata": {
    "collapsed": true
   },
   "source": [
    "To provide an electrical analogy for battery capacity, we determine the capacity of a capacityor.  A fully charged capacitor holds a maximum charge $Q_{max}=C_cV_{max}$ where $C_c$ is the capacitance in farads and $V_{max}$ is the maximum voltage. The maximum stored charge $Q_{max}$ is the capacity of the capacitor.  The SOC of a capacitor is\n",
    "$$ SoC = \\frac{Q(t)}{Q_{max}} = \\frac{C_cV(t)}{C_cV_{max}} =\\frac{-1}{C_cV_{max}}\\int_0^tI(\\tau)d\\tau- -  - -\\dots(2)$$\n",
    "where SOS(0)=0% and I<0 during charge"
   ]
  },
  {
   "cell_type": "markdown",
   "metadata": {},
   "source": [
    "The voltage on a capacitor increases linearly with charge, so the energy stored in the capacitor is\n",
    "$$E=\\int_0^QVdq=\\int_0^Q\\frac{q}{C_c}dq=\\frac{1}{2}\\frac{{Q^2}_{max}SOC^2}{C_c} - - - -\\dots(3)$$\n",
    "\n",
    "Thus, the stored energy of a capacitor is proportional to the square of the SOC.\n",
    "\n",
    "Battery cell voltages also depend on SOC; as, as with capacitors, battery SOC does not measure energy storage.  Cell voltages dicreases with decreasing SOC, initially at a low slow and then more quickly as DOD (DOD=1-SOC) reaches one.  Some chemistries (e.g. lithium iron phosphate) have a very flat voltage versos DOD curve, similar to capacitors.  All cells display some decrease in voltage with DOD."
   ]
  },
  {
   "cell_type": "markdown",
   "metadata": {
    "collapsed": true
   },
   "source": [
    "As with capacitors, the capacity of a cell depends on the operating voltage range.  A cell fully charged when it maintains the prescribed cell voltage for its chemistry $V_h$ (e.g. 4.2V for an Li-ion cell) in steady state and at room temperature.  This can be achieved through, for example, trickle charging at $V_h$ for a suitably long period of time. The $V_h$ voltage is limited by side reactions that can damage and reduce the life of the battery at high voltages.  A fully discharged cell that provides maximum lumber of amber-hours from a full charge has a steady-state voltage of  $V_1$ (e.g. 3.0 V for an Li-ion cell) at room temperature. The $V_1$ voltage is also chosen to limit battery damage.  The voltage versus DoD curve is steeply sloped at high DoD, so operating at a reduced $V_1$ may not result in a significant increase in stored energy"
   ]
  },
  {
   "cell_type": "markdown",
   "metadata": {
    "collapsed": true
   },
   "source": [
    "High discharge rates, low temperatures, and ageing can significantly reduce batery capacity.  A battery at 80% SoC may only be able to provide 20% of the rated ampere-hours at 5C discharge rate compared with C/30 because the battery voltage drops quickly to $V_1$ before the rated capacity is achieved.  If the high-rate discharge stops, however, the voltage can recover and fruther capacity removed from the battery.  Old batteries, or those operating at low temperatures, have nominal capcacities that can be significantly less than the nominal capacity of the freshh cell room temperature.  Again, an SOC of 80% for an aged or coled battery may mean that only 20% of the room temperature and fresh cell capacity is available to be discharged.\n",
    "\n",
    "From the systems perspective, SOC mirrors the gas gauge in a traditional vehicle powered by an (internal combustion engine) ICE.  The distance one can travel on a quarter tank of gas, or range depends on the rate at which fuel is consumed.  In an ideal situation, speed is proportional to fuel consumption rate.  In practice however, range estimation is complicated by many unknown factors.  The weight of the vehicle and road grade are not known a priori.  The efficiency of the ICE and aerodynamic drag depend on vehicle speed.  The efficiency drops to zero at stop lights or traffic jams.  Unlike battery SOC, hoever, gas gauge measures drops to zero at stop lights or traffic jams.  Unlike battery SOC, hover, the gas gauge measures the energy remaining in the tank.\n",
    "\n",
    "Many of these decisions made by HEV control system depends on SOC.  In real-time, the BMS must decide whether to use he mechanical brakes or regenerative breaking during deceleration or, during acceleration, draw power from the battery pack or the ICE.   These decision are often based on the SOC.  Unlike the gas gauge, however, there is no sensor that directly measures SOC.  Unlike the gas gauge, however, there is no sensor that directly measures SOC, so an estimate must be used.  The accuracy of this estimate is critical to the proper, safe and efficient performance of the HEV.\n",
    "\n",
    "In most applications, the SOC estimator must be as non-intrusive as possible.  In this section we assume that only the voltage, current and temperature are measured.  Individual cell voltages and temperatures of individual batteries, respectively.  The SOCs for batteries and packs, however, are averaged over the individual cell battery SOCs respectively.  We also asume that the BMS uses charge and discharge current only to fulfill the application requirements.  The SOC estimation scheme cannot command the battery current and introduce pulses or sine sweeps in the battery current to aid in SOC estimation.  This would require complicated and expensive equipment and limit the availability of the battery for its intended purpose.  Finally, we assume that the sensors are sampled at a finite bandwidth, typically around 10Hz.  Thus, high-frequency dynamics need not be modeled and cannot be relied upon to help with SOC estimation."
   ]
  },
  {
   "cell_type": "markdown",
   "metadata": {},
   "source": [
    "### SOC Modelling\n",
    "\n"
   ]
  }
 ],
 "metadata": {
  "kernelspec": {
   "display_name": "Python 2",
   "language": "python",
   "name": "python2"
  },
  "language_info": {
   "codemirror_mode": {
    "name": "ipython",
    "version": 2
   },
   "file_extension": ".py",
   "mimetype": "text/x-python",
   "name": "python",
   "nbconvert_exporter": "python",
   "pygments_lexer": "ipython2",
   "version": "2.7.10"
  }
 },
 "nbformat": 4,
 "nbformat_minor": 0
}
