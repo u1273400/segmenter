{
 "cells": [
  {
   "cell_type": "markdown",
   "metadata": {},
   "source": [
    "### Obtaining a Transfer function from a State Space model\n",
    "\n",
    "Given the state and output equations\n",
    "$$ \\dot{x}=Ax + Bu - - - -\\dots(1) $$\n",
    "$$ y = Cx + Du - - - - \\dots(2) $$\n",
    "\n",
    "Take the Laplace transform assuming zero initial conditions\n",
    "$$ sX(s)=AX(s) + BU(s) - - - -\\dots(3) $$\n",
    "$$ Y(s) = CX(s) + DU(s) - - - - \\dots(4) $$\n",
    "Solving for X and introducing an identity matrix for equation (3), we have\n",
    "$$ (sI - A)X(s)=BU(s) $$\n",
    "OR\n",
    "$$ X(s)=(sI - A)^{-1}BU(s) - - - - \\dots(5)$$"
   ]
  },
  {
   "cell_type": "markdown",
   "metadata": {},
   "source": [
    "Substituting equation (5) into equation (4)\n",
    "$$ Y(s) = C(sI - A)^{-1}BU(s) + DU(s)$$\n",
    "$$ Y(s) = [C(sI - A)^{-1}B(s) + D]U(s) - - - - \\dots(6) $$"
   ]
  },
  {
   "cell_type": "markdown",
   "metadata": {},
   "source": [
    "Equation (6) is called the transfer function matrix, since it relates the output vector Y(s) to input vector, U(s).\n",
    "\n",
    "$$ T(s)= \\frac{Y(s)}{U(s)} = C(sI - A)^{-1}B(s) + D - - - - \\dots(6) $$"
   ]
  },
  {
   "cell_type": "markdown",
   "metadata": {},
   "source": [
    "#### Example"
   ]
  },
  {
   "cell_type": "markdown",
   "metadata": {},
   "source": [
    "#### Solution"
   ]
  },
  {
   "cell_type": "markdown",
   "metadata": {},
   "source": [
    "## State Variable Feedback Control\n",
    "\n",
    "State variable feedback control (also known as state vector feedback control) occurs when all of the state variable (rather than just the final output) are feed back to the effect of the control of the system.\n",
    "![Figure 1](https://selene.hud.ac.uk/u1273400/images/seg_media/c3.PNG)\n",
    "**Figure 1**"
   ]
  },
  {
   "cell_type": "markdown",
   "metadata": {},
   "source": [
    "Figure 1 Represents a closed loop system whereby the ith state variable sis fed back via a fixed gain h<sub>i</sub>.  The process input u(t) can be represented by\n",
    "$$ u(t)=r(t)-\\begin{bmatrix} h_1 & h_2 & h_3 & h_4 \\end{bmatrix}\n",
    "\\begin{bmatrix} x_1 \\\\ x_2 \\\\ x_3 \\\\ x_4 \\end{bmatrix} - - - - \\dots(1) $$"
   ]
  },
  {
   "cell_type": "markdown",
   "metadata": {},
   "source": [
    "The matrix H is known as the feedback matrix, and is a \"i x n\" matrix.  Equation (1) can also be written as\n",
    "$$ u = r - HX - - - - \\dots(2) $$\n",
    "\n",
    "Let us suppose that \"Process 1\" shon in Figure 1 can be represent by the following \"open loop\" state variable equations.\n",
    "$$ \\dot{X}=AX + Bu - - - - \\dots(3) $$\n",
    "and\n",
    "$$ Y=CX + Du - - - - \\dots(4) $$\n",
    "if we Substitute  equation (2) into (3) we have\n",
    "$$ \\dot{X}=AX + B(r-HX)  $$\n",
    "Which gives\n",
    "$$ \\dot{X}=AX + Br-BHX  $$\n",
    "and\n",
    "$$ \\dot{X}=X(A-BH) + Br - - - - \\dots(5) $$\n",
    "By taking the laplace transform of Equation (5) we have that"
   ]
  },
  {
   "cell_type": "markdown",
   "metadata": {},
   "source": [
    "$$ sX(s)=X(s)(A-BH) + Br(s)  $$\n",
    "Therefore\n",
    "$$ Br(s)=sX(s) - X(s)(A-BH)  - - - - \\dots(6) $$\n",
    "\n",
    "To sufficiently resolve an \"n x n\" matrix an identy matrix, I is introduced to the system, this becomes\n",
    "$$ Br(s)=sIX(s) - X(s)(A-BH)   $$\n",
    "Factorizing yields\n",
    "$$ Br(s)=X(s)(sI - A + BH)   $$\n",
    "Therefore\n",
    "$$ X(s)=\\frac{Br(s)}{sI - A + BH} - - -  - \\dots(7) $$"
   ]
  },
  {
   "cell_type": "markdown",
   "metadata": {},
   "source": [
    "Taking the Laplace Transform of equation (4) gives\n",
    "$$ Y(s)=CX(s) + Du(s) - - - - \\dots(8) $$\n",
    "Given that for regular systems D=0 and substituting for X by equation (7) now gives\n",
    "$$ Y(s)=\\frac{CBr(s)}{sI - A + BH}  $$\n",
    "Therefore\n",
    "$$ \\frac{Y(s)}{r(s)}=\\frac{CB}{sI - A + BH} - - -  - \\dots(9) $$"
   ]
  },
  {
   "cell_type": "markdown",
   "metadata": {},
   "source": [
    "Let us suppose the system has a single output of interest y(t) (which is the same as the state variable x<sub>1</sub>(t) as shown in Figure 1.  We may now state that equation (12) represent the closed loop \"s\" transfer function of a process characterised by the matrices A, B, and C which is controlled via a feedback matrix H."
   ]
  },
  {
   "cell_type": "markdown",
   "metadata": {
    "collapsed": true
   },
   "source": [
    "#### Example 1\n",
    "A process has an open loop transfer functio G(s) given by\n",
    "$$ G(s)=\\frac{Y(s)}{U(s)}=\\frac{100}{(s^2+9s+25)(1+s)} - - - - \\dots(10) $$"
   ]
  },
  {
   "cell_type": "markdown",
   "metadata": {},
   "source": [
    "Convert this 's' transfer function to state variable notation then provide state variable feedback control via matrix H (where H=[h<sub>1</sub>, h<sub>2</sub>, h<sub>3</sub>].  Express the resultant closed loop system as an 's' transfer function."
   ]
  },
  {
   "cell_type": "markdown",
   "metadata": {},
   "source": [
    "#### Solution\n",
    "##### Steps\n",
    "1. Determine the State Space notation of inputs and outputs\n",
    "2. State the state space notation for Feedback matrix\n",
    "3. Perform the state space computation for the closed loop using matrix operations in terms of h"
   ]
  },
  {
   "cell_type": "markdown",
   "metadata": {
    "collapsed": true
   },
   "source": [
    "##### Finding the Inverse of a 3 x 3 matrix\n",
    "\n",
    "Consider the folloing 3 x 3 matrix\n",
    "$$ Q=\\begin{bmatrix} a & b & c \\\\ d & e & f \\\\ g & h & i \\end{bmatrix} $$"
   ]
  },
  {
   "cell_type": "markdown",
   "metadata": {},
   "source": [
    "the \"adjoint\" of Q is adjQ where\n",
    "$$ adjQ=\\begin{bmatrix} \n",
    " \\begin{vmatrix} e & f \\\\ h & i \\end{vmatrix} & \n",
    " -\\begin{vmatrix}d & f \\\\ g & i \\end{vmatrix} &\n",
    " \\begin{vmatrix} e & f \\\\ h & i \\end{vmatrix} \\\\ \n",
    " -\\begin{vmatrix} b & c \\\\ h & i \\end{vmatrix} & \n",
    " \\begin{vmatrix}a & c \\\\ g & i \\end{vmatrix} &\n",
    " -\\begin{vmatrix} a & b \\\\ g & h \\end{vmatrix} \\\\ \n",
    " \\begin{vmatrix} b & c \\\\ e & f \\end{vmatrix} & \n",
    " -\\begin{vmatrix}a & c \\\\ d & f \\end{vmatrix} &\n",
    " \\begin{vmatrix} a & b \\\\ d & e \\end{vmatrix} \\\\ \n",
    "\\end{bmatrix}^T $$"
   ]
  },
  {
   "cell_type": "markdown",
   "metadata": {},
   "source": [
    "Therefore\n",
    "$$ adjQ=\\begin{bmatrix} (ei-hf & -(di-fj) & (dh-eg) \\\\ -(bi-ch) & (ai-cg) & -(ah-bg) \\\\ (bf-ce) & -(af-cd) & (ae-bd) \\end{bmatrix}^T $$\n",
    "Therefore\n",
    "$$ adjQ=\\begin{bmatrix} (ei-hf & -(bi-ch) & (bf-ce) \\\\ -(di-fj) & (ai-cg) &  -(af-cd)\\\\ (dh-eg) & -(ah-bg) & (ae-bd) \\end{bmatrix} - - - -\\dots(1)$$"
   ]
  },
  {
   "cell_type": "markdown",
   "metadata": {},
   "source": [
    "The determinant of Q, detQ or $\\Delta Q$ is given by\n",
    "$$ detQ=a\\begin{vmatrix}e & f \\\\ h & i \\end{vmatrix}-a\\begin{vmatrix}e & f \\\\ h & i \\end{vmatrix}+a\\begin{vmatrix}e & f \\\\ h & i \\end{vmatrix}$$\n",
    "Therefore\n",
    "$$ detQ = a(ei-fh)-b(di-fg)+c(dh-eg) - - - - \\dots(2) $$\n",
    "The inverse of matrix Q is given by\n",
    "$$ Q^{-1}=\\frac{adjQ}{detQ} - - - -\\dots(3) $$"
   ]
  },
  {
   "cell_type": "markdown",
   "metadata": {},
   "source": [
    "#### Example 2\n",
    "For the closed loop system given example 1 above, choose, $h_1, h_2, \\text{ and }h_3$ such that there are system poles at $s=-2\\pm2j$ and that there is a zero steady state error to a step change in set point r(t)."
   ]
  },
  {
   "cell_type": "markdown",
   "metadata": {},
   "source": [
    "#### Solution\n",
    "We start by examining the criteria for zero steady state error to a (unit) step change in set point.\n",
    "$$ \\lim_{t \\rightarrow \\infty}y(t)= \\lim_{s \\rightarrow 0}s(\\frac{1}{s})\\frac{100}{s^3+(10+100h_3)s^2+(34+100h_2)s+(25+100h_1)} - - - -\\dots(4)$$  where (1/s) is the step change Laplace transform. Therefore\n",
    "$$ \\lim_{t \\rightarrow \\infty}y(t)=\\frac{100}{(25+100h_1)} $$\n",
    "Given that  $ \\lim_{t \\rightarrow \\infty}y(t)=1$\n",
    "$$ \\implies \\frac{100}{(25+100h_1)}=1 $$\n",
    "$$ \\implies (25+100h_1)=100 $$\n",
    "$$ \\therefore h_1=0.75 - - - -\\dots(5) $$"
   ]
  },
  {
   "cell_type": "markdown",
   "metadata": {},
   "source": [
    "From equations (4) and (5), the denomenator can be written as $s^3+(10+100h_3)s^2+(34+100h_2)s+100$.  With system poles at $s=-2\\pm2j$ we may write\n",
    "$$s^3+(10+100h_3)s^2+(34+100h_2)s+100=(s+2+2j)(s+2-2j)(s+\\alpha) - - - -\\dots(6)$$\n",
    "where $\\alpha$ is the 3rd system pole.\n",
    "\n",
    "From equation (6) we have\n",
    "$$s^3+(10+100h_3)s^2+(34+100h_2)s+100=s^3+(4+\\alpha)s^2+(8+\\alpha)s+8\\alpha - - - -\\dots(7)$$\n",
    "Equating terms in $s^0$ in equation (7) gives\n",
    "$$ 8\\alpha=100 \\implies \\alpha=12.15 - - - - \\dots(8)$$\n",
    "Equating terms in s in equation (7) and using $\\alpha$ derived from equation (8) gives\n"
   ]
  },
  {
   "cell_type": "markdown",
   "metadata": {},
   "source": [
    "## Controllability\n",
    "\n",
    "An open-loop system is said to be controllable if it is possible to change its state from some initial state to some desired equilibrium state, in a finite time by manipulating the system input u(t).\n",
    "\n",
    "Consider an nth-order open loop system defined by the state equations\n",
    "$$ \\dot{X}=AX + Bu - - - - \\dots(1) $$\n",
    "and\n",
    "$$ Y=CX + Du - - - - \\dots(2) $$\n",
    "\n",
    "For this system, it is possible to write an \"n x n\" matrix Sc, knon as the composite matrix defined as\n",
    "$$ Sc = [B AB A^2B \\dots A^{n-1}B] - - - - \\dots(3)\n",
    "\n",
    "For the system to be controllable the determinant of Sc must not be equal to zero i.e. \n",
    "$$ Sc \\neq 0  \\implies Controllable- - - - \\dots(4)$$\n"
   ]
  },
  {
   "cell_type": "markdown",
   "metadata": {},
   "source": [
    "In many text books the condition for controllability given in equation (4) is expressed \"**the necessary and sufficient condition for controllability is that the composite matrix has a rank of n**\".\n",
    "\n",
    "- The rank of matrix Sc is the order of the largest non-singular matrix contained within Sc.  \n",
    "- The order of a square matrix is the number of rows or number of columns.  \n",
    "- A singular matrix has a determinant equal to zero"
   ]
  },
  {
   "cell_type": "markdown",
   "metadata": {},
   "source": [
    "#### Example 3\n",
    "Consider the system having the state system matrix variables A and B as follows\n",
    "$$ A=\\begin{bmatrix} 0 & 1 & 0 \\\\ 0 & 0 & 1 \\\\ -25 & -34 & -10 \\end{bmatrix} - - - - \\dots(5) $$\n",
    "and\n",
    "$$ \\begin{bmatrix} 0 \\\\ 0 \\\\ 100 \\end{bmatrix} - - - - \\dots(6) $$\n",
    "Determine if this system is controllable"
   ]
  },
  {
   "cell_type": "markdown",
   "metadata": {},
   "source": [
    "#### Solution\n",
    "The composite matrix Sc for this 3rd order system is givem by Sc=[B AB A<sup>2</sup>B] - - - - ...(7)"
   ]
  },
  {
   "cell_type": "markdown",
   "metadata": {},
   "source": [
    "#### Example 4\n",
    "Suppose a 3rd order system has a composite matrix Sc as below\n",
    "$$ Sc=\\begin{bmatrix} 1 & 2 & 3 \\\\ 2 & 3 & 4 \\\\ 3 & 5 & 7 \\end{bmatrix} - - - - \\dots(5) $$\n",
    "Determine if this system is controllable"
   ]
  },
  {
   "cell_type": "markdown",
   "metadata": {},
   "source": [
    "#### Solution\n",
    "detSc = 1 x (3 x 7 - 4 x 5) - 2 x (2 x 7 - 4 x 3) + 3 x (2 x 5 - 3 x 3) = 1 - 4 + 3 = 0.\n",
    "\n",
    "Since detSc=0, the composite matrix is singular and therefore the system is not controllable"
   ]
  },
  {
   "cell_type": "markdown",
   "metadata": {},
   "source": [
    "## Controllability and Observability\n",
    "\n",
    "**Controllability**: In order to be able to do whatever we want with the given dynamic system under control input, the system must be controllable.\n",
    "\n",
    "**Observability**: In order to see what is going on inside the system under observation, the system must be observable.\n",
    "\n",
    "It is well known that a solvable\n",
    "system of linear algebraic equations has a solution if and only if the rank of the system matrix is full . Observability and controllability tests will be connected to the rank tests of ceratin matrices: the controllability and observability matrices"
   ]
  },
  {
   "cell_type": "markdown",
   "metadata": {},
   "source": [
    "### Observability of Discrete Systems\n",
    "\n",
    "Consider a linear, time invariant, discrete-time system in the state space form\n",
    "$$ x(k+1)=A_dx(k), x(0)=x_0=unknown - - - - \\dots(1) $$\n",
    "with output measurements\n",
    "$$ y(k)=C_dx(k) - - - - \\dots(1) $$\n",
    "where $x(k)\\in \\mathfrak{R}^n, y(k)\\in \\mathfrak{R}^n$. $A_d$ and $C_d$ are constant matrices of appropriate dimensions.  The natural question to be asked is: can we learn everything about the dynamical behaviour of the state space variables defined in equation (1) by using only information from output measurements.  If we know x_0, then the recursion apparently gives us complete knowledge about the state variables at any state measurements is the initial vector x(0)=$x_0$."
   ]
  },
  {
   "cell_type": "markdown",
   "metadata": {},
   "source": []
  }
 ],
 "metadata": {
  "kernelspec": {
   "display_name": "R",
   "language": "R",
   "name": "ir"
  },
  "language_info": {
   "codemirror_mode": "r",
   "file_extension": ".r",
   "mimetype": "text/x-r-source",
   "name": "R",
   "pygments_lexer": "r",
   "version": "3.2.2"
  }
 },
 "nbformat": 4,
 "nbformat_minor": 0
}
