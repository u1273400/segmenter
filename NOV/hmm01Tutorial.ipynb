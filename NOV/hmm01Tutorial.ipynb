{
 "cells": [
  {
   "cell_type": "markdown",
   "metadata": {},
   "source": [
    "## Gaussian Mixture Models\n",
    "In this section a Gaussian Random variable and a mixture of Gaussian random variable is derived.  The end product is a Gaussian Mixture Model (GMM). This can be applied to fit real-world data such as speech features.  The GMM as a statistical model for Fourier-spectrum-based speech features plays an important role in acoustic modeling of conventional speech recognition systems.\n",
    "\n",
    "### Basic Properties\n",
    "Let $(\\Omega,\\mathcal{A},P)$ be a probability measure with $E, F, E^c \\in \\mathcal{A}$\n",
    "1. $P(E\\cup F)=P(E)+P(F)$ if $E \\cap F=0$\n",
    "2. $P(E\\cup F)=P(E)+P(F)-P(E\\cap F)$\n",
    "3. $P(E)=1-P(E^c)$\n",
    "4. $P(E \\cup F^c)=P(E)-P(E\\cap F)$\n",
    "5. **Inclusion-Exclusion Formula** $$P(\\bigcup_{i=1}^nE_i)=\\sum_iP(E_i)-\\sum_{i<j}P(E_i\\cap E_j)+\\sum_{i<j<k}P(E_i\\cap E_j \\cap E_k) + \\dots\\ +(-1)^{n+1}P(E_1\\cap E_2\\cap\\dots\\cap E_n)$$\n",
    "![Figure 1](https://selene.hud.ac.uk/u1273400/images/seg_media/ierule.PNG)\n",
    "**Figure 1: Inclusion Exclusion Rule**\n",
    "6. $P(\\bigcup_{i=1}^nE_i)\\le \\sum_{i=1}^nP(E_i)$ and $P(\\bigcup_{i=1}^\\infty E_i)\\le\\sum_{i=1}^\\infty P(E_i)$\n"
   ]
  },
  {
   "cell_type": "code",
   "execution_count": 8,
   "metadata": {
    "collapsed": false
   },
   "outputs": [],
   "source": [
    "\n",
    "def acc(tn,tn1,it):\n",
    "    import math\n",
    "    acdp=4\n",
    "    max_it=10000\n",
    "    es=10**(2-acdp)/2\n",
    "    ea=math.fabs((tn1-tn)/tn1)\n",
    "    if ea<es:\n",
    "        return True\n",
    "    elif it>max_it:\n",
    "        return -1\n",
    "    else:\n",
    "        return False\n",
    "    \n",
    "def d2frac(x):\n",
    "    n=1.0\n",
    "    d=2.0\n",
    "    it=0\n",
    "    no=0\n",
    "    if x>=1:\n",
    "        no=int(x)\n",
    "        x=x-int(x)\n",
    "    y=acc(x,n/d,it)\n",
    "    while y<>True:\n",
    "        if y==-1:\n",
    "            print \"Maximum No of Iterations Exceeded\"\n",
    "            return\n",
    "        elif x>n/d:\n",
    "            n+=1\n",
    "            d+=1\n",
    "        else:\n",
    "            d+=1\n",
    "        it+=1\n",
    "        y=acc(x,n/d,it)\n",
    "    n=d*no+n\n",
    "    print \"%d/%d\"%(n,d)\n",
    "    \n"
   ]
  },
  {
   "cell_type": "markdown",
   "metadata": {},
   "source": [
    "## Bayesian/Conditional Probability\n",
    "\n",
    "There are two ways to consider Bayesian probability.  The first method is the simpler ratios method and the second method is the measure theory method otherwise known as the Bayes rule method.  Even though the first method is simpler than the second method, both however observe the following themes.\n",
    "1. They are methods of obtaining a conditional probability also known as the posterior or updated probability\n",
    "2. It is based upon a prior evidence known as the prior probability and an update evidence known as the likelihood probability. \n",
    "\n",
    "### Bayes Rule Using Ratios\n",
    "In as much as the using the ratios method of Bayes probability is rather straight forward.  Certain principles need to be adhered to, in order to draw on the gains of this method and use it properly in practical scenarios.  The algorithm at arriving at the posterior probability therefore is as follows:\n",
    "\n",
    "1. Know the Prior probability\n",
    "2. Know the likelihood ratios\n",
    "3. Multiply the ratio marginals of the prior and likelihood to obtain the posterior probability\n",
    "\n",
    "### Bayes Rule from measure theory\n",
    "The method we just considered is the simple yet intuitive way to look at Bayes Rule.  This method is a means to appreciate the second Bayes Rule approach which is an in-depth and elaborate approach to solving conditional probability. In as much as the elaborate method goes into great detail in expanding upon probability principles it is a comprehensive study of the subject of Bayesian probability and accounts for many practical consideration that may be applied to daily practical probability challenges. These considerations are not redily accessible using the ratios method. The simplified method looks at probability variables using ratios while the second elaborate method takes a broad and formal approach using the principles of a branch of mathematics referred to as measure theory.\n",
    "\n",
    "#### Measure Theory Principles\n",
    "1. **Probability Space**\n",
    "2. **Types of Probability**\n",
    "3. **Probability Distributions**\n",
    "4. **Probability Unions**\n",
    "5. **Marginal Probability**\n",
    "6. **Joint Probability**\n",
    "7. **Chain Rule**"
   ]
  },
  {
   "cell_type": "code",
   "execution_count": 9,
   "metadata": {
    "collapsed": false
   },
   "outputs": [
    {
     "data": {
      "text/plain": [
       "0.1020408163265306"
      ]
     },
     "execution_count": 9,
     "metadata": {},
     "output_type": "execute_result"
    }
   ],
   "source": [
    "# EXAMPLE:P(C) =1‰ P(+|C) =90‰ P(+|NC) =8‰ \n",
    "# Prior = 1 : 99\n",
    "# Likelihood = 90:8\n",
    "# posterior = 1x90:99x8\n",
    "# or (9/1000) /(9/1000+792/10000)\n",
    "90.0/(99*8)"
   ]
  },
  {
   "cell_type": "code",
   "execution_count": 10,
   "metadata": {
    "collapsed": false
   },
   "outputs": [
    {
     "data": {
      "text/plain": [
       "0.1020408163265306"
      ]
     },
     "execution_count": 10,
     "metadata": {},
     "output_type": "execute_result"
    }
   ],
   "source": [
    "(9.0/1000) /(9.0/1000+792.0/10000)"
   ]
  },
  {
   "cell_type": "code",
   "execution_count": null,
   "metadata": {
    "collapsed": true
   },
   "outputs": [],
   "source": []
  }
 ],
 "metadata": {
  "kernelspec": {
   "display_name": "Python 2",
   "language": "python",
   "name": "python2"
  },
  "language_info": {
   "codemirror_mode": {
    "name": "ipython",
    "version": 2
   },
   "file_extension": ".py",
   "mimetype": "text/x-python",
   "name": "python",
   "nbconvert_exporter": "python",
   "pygments_lexer": "ipython2",
   "version": "2.7.10"
  }
 },
 "nbformat": 4,
 "nbformat_minor": 0
}
