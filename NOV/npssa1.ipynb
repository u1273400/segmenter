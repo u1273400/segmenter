{
 "cells": [
  {
   "cell_type": "markdown",
   "metadata": {},
   "source": [
    "### Converting a Transfer Function to a State Space\n",
    "It is sometimes required to express the transfer function of a system in state variable notation.  This may be necessary if, for example, we wish to control a system with a known transfer functionusing 'state variable feedback control'."
   ]
  },
  {
   "cell_type": "markdown",
   "metadata": {},
   "source": [
    "*\n",
    "At first a set of state variables, called phase variables, where each subsequent state variable is defiend to be the derivative of the previous state.  The general nth-order, linear differential equation with consant coefficients is evaluated in state space phase variable form as follows. We will later apply this representation to transfer functions.\n",
    "*"
   ]
  },
  {
   "cell_type": "markdown",
   "metadata": {},
   "source": [
    "*\n",
    "Consider the differential equation\n",
    "*\n",
    "$$ \\frac{d^ny}{dt^n}+a_{n-1}\\frac{d^{n-1y}}{dt^{n-1}}+\\dots+a_{1}\\frac{dy}{dt}+a_0y=b_0u - - - - \\dots(1)$$\n",
    "\n",
    "*\n",
    "A convenient way to choose state variables is to choose the output, y(t), and its (n-1) derivatives as the state variables.  This choice is called the phase-variable choice.  Choosing the state variables, x<sub>i</sub>, we get\n",
    "*"
   ]
  },
  {
   "cell_type": "markdown",
   "metadata": {},
   "source": [
    "$$\\begin{matrix}\n",
    "x_1=y - - - -\\dots(2a)\\\\\n",
    "x_2=\\frac{dy}{dt} - - - -\\dots(2b)\\\\\n",
    "x_3=\\frac{d^2y}{dt^2} - - - -\\dots(2c)\\\\\n",
    "\\vdots \\\\\n",
    "x_n=\\frac{d^{n-1}y}{dt^{n-1}} - - - -\\dots(2d)\n",
    "\\end{matrix} $$"
   ]
  },
  {
   "cell_type": "markdown",
   "metadata": {},
   "source": [
    "and differentiating both sides yields\n",
    "$$\\begin{matrix}\n",
    "\\dot{x}_1=\\frac{dy}{dt} - - - -\\dots(3a)\\\\\n",
    "\\dot{x}_2=\\frac{d^2y}{dt^2} - - - -\\dots(3b)\\\\\n",
    "\\dot{x}_3=\\frac{d^3y}{dt^3} - - - -\\dots(3c)\\\\\n",
    "\\vdots \\\\\n",
    "\\dot{x}_n=\\frac{d^{n}y}{dt^{n}} - - - -\\dots(3d)\n",
    "\\end{matrix} $$"
   ]
  },
  {
   "cell_type": "markdown",
   "metadata": {},
   "source": [
    "where the dot above the x signifies differentiation with respect to time.\n",
    "\n",
    "Substituting the definitions of equestions (2) into (3)\n",
    "$$\\begin{matrix}\n",
    "\\dot{x}_1=x_2 - - - -\\dots(4a)\\\\\n",
    "\\dot{x}_2=x_3 - - - -\\dots(4b)\\\\\n",
    "\\vdots \\\\\n",
    "\\dot{x}_{n-1}=x_n - - - -\\dots(4c)\n",
    "\\end{matrix} $$"
   ]
  },
  {
   "cell_type": "markdown",
   "metadata": {},
   "source": [
    "and therefore equation (1) becomes\n",
    "$$ \\dot{x}_n=-a_0x_1-a_1x_2\\dots-a_{n-1}x_n+b_0u - - - - \\dots(5) $$"
   ]
  },
  {
   "cell_type": "markdown",
   "metadata": {},
   "source": [
    "In vector matrix form equation (5) becomes\n",
    "$$\n",
    "\\begin{bmatrix}\\dot{x}_1\\\\ \\dot{x}_2\\\\ \\dot{x}_3\\\\ \\vdots\\\\ \\dot{x}_{n-1}\\\\ \\dot{x}_n \\end{bmatrix}=\n",
    "\\begin{bmatrix}\n",
    "0 & 1 & 0 & 0 & \\dots & 0 \\\\\n",
    "0 & 0 & 1 & 0 & \\dots & 0 \\\\\n",
    "0 & 0 & 0 & 1 & \\dots & 0 \\\\\n",
    "\\vdots \\\\\n",
    "0 & 0 & 0 & 0 & \\dots & 1 \\\\\n",
    "-a_0&-a_1&-a_2&-a_3&\\dots&-a_{n-1}\n",
    "\\end{bmatrix}\n",
    "\\begin{bmatrix}x_1\\\\ x_2\\\\ x_3\\\\ \\vdots\\\\ x_{n-1}\\\\ x_n \\end{bmatrix}+\n",
    "\\begin{bmatrix}0 \\\\ 0 \\\\ 0 \\\\ \\vdots\\\\ 0 \\\\ b_0 \\end{bmatrix}u\n",
    "\\dots(6)$$"
   ]
  },
  {
   "cell_type": "markdown",
   "metadata": {},
   "source": [
    "*Equation (6) is the phase-variable form of the state equations.  This form is easily recognized by the unique pattern of 1's and 0's and the negative coefficients of the differential equation written in reverse order in the last for of the system matrix.*\n",
    "\n",
    "*Finally, since the solution to the differential iequation is y(t), or x<sub>1</sub>, the output equation is*\n",
    "\n",
    "$$ y=\\begin{bmatrix}1 & 0 & 0 & \\dots  & 0 \\end{bmatrix}\n",
    "\\begin{bmatrix}x_1 \\\\ x_2 \\\\ x_3 \\\\ \\vdots \\\\ x_{n-1} \\\\ x_n \\end{bmatrix} - - - -\\dots(7) $$"
   ]
  },
  {
   "cell_type": "markdown",
   "metadata": {},
   "source": [
    "*In summary, then to convert a transfer function into equation in state, we first convert the transfer function to a differential equation by cross-multiplying and taking the inverse Laplace function, assuming zero initial conditions.  Then we represent the differential equation in state phase variable form.*\n",
    "\n",
    "The methods used to convert a transfer function to state variable notation depends on whether or not there is a polynomial in s in the numerator, as illustrated by the following examples.\n",
    "\n",
    "#### METHOD 1:  NO POLYNOMIAL IN s IN THE NUMERATOR\n",
    "For this case, for an nth order system, we choose the state variables x<sub>1</sub> and x<sub>n</sub> as the system output and the (n-1) derivatives of the system output.  Note the “order” of the system is equal to the highest exponent of s in the transfer function denominator."
   ]
  },
  {
   "cell_type": "markdown",
   "metadata": {},
   "source": [
    "##### Example 1\n",
    "Express the folloing tranfer function in state variable notation\n",
    "$$ \\frac{Y(s)}{u(s)}=\\frac{100}{(s^2+9s+25)(1+s)} - - - - \\dots(8)$$\n",
    "$$ Y(s)(s^2+9s+25)(1+s)=100u(s)$$\n",
    "$$\\therefore (s^3+10s^2+34s+25)Y(s)=100u(s) - - - - \\dots(9)$$"
   ]
  },
  {
   "cell_type": "markdown",
   "metadata": {},
   "source": [
    "Taking the inverse Laplace Transforms of equation (9) and remembering that multiplication by s is equivalent to differentiation with respect to t in the time domain, we have:\n",
    "$$ \\dddot{y}+10\\ddot{y}+34\\dot{y}+25y=100u - - - - \\dots(10)$$"
   ]
  },
  {
   "cell_type": "markdown",
   "metadata": {},
   "source": [
    "We now choose our state variables as follows recalling y is the system output.  Recall that\n",
    "$$\\begin{aligned} x_1=y \\\\ x_2=\\dot{x}_1=\\dot{y} \\\\ x_3=\\dot{x}_2= \\ddot{y} \\end{aligned} - - - - \\dots(11) $$\n",
    "Also note that $$ \\dot{x}_3=\\dddot{y} - - - - \\dots(12) $$"
   ]
  },
  {
   "cell_type": "markdown",
   "metadata": {},
   "source": [
    "From equations (5), (10), (11) and (12) we may write\n",
    "$$ \\dot{x}_3=-10x_3-34x_2-25x_1+100u - - - - \\dots(13) $$\n",
    "\n",
    "There fore the state variable matrix equation can be derived as follows:\n",
    "\n",
    "$$ \\begin{matrix}\n",
    "\\begin{bmatrix}\\dot{x}_1\\\\ \\dot{x}_2\\\\ \\dot{x}_3\\\\ \\vdots\\\\ \\dot{x}_{n-1}\\\\ \\dot{x}_n \\end{bmatrix}=\n",
    "\\begin{bmatrix}\n",
    "0 & 1 & 0 & 0 & \\dots & 0 \\\\\n",
    "0 & 0 & 1 & 0 & \\dots & 0 \\\\\n",
    "0 & 0 & 0 & 1 & \\dots & 0 \\\\\n",
    "\\vdots \\\\\n",
    "0 & 0 & 0 & 0 & \\dots & 1 \\\\\n",
    "-a_0&-a_1&-a_2&-a_3&\\dots&-a_{n-1}\n",
    "\\end{bmatrix}\n",
    "\\begin{bmatrix}x_1\\\\ x_2\\\\ x_3\\\\ \\vdots\\\\ x_{n-1}\\\\ x_n \\end{bmatrix}+\n",
    "\\begin{bmatrix}0 \\\\ 0 \\\\ 0 \\\\ \\vdots\\\\ 0 \\\\ b_0 \\end{bmatrix}u\n",
    "\\dots(6)\n",
    "\\end{matrix} $$"
   ]
  },
  {
   "cell_type": "markdown",
   "metadata": {},
   "source": [
    "And the corresponding output equation is given as\n",
    "$$ y=\\begin{bmatrix}1 & 0 & 0 & \\dots  & 0 \\end{bmatrix}\n",
    "\\begin{bmatrix}x_1 \\\\ x_2 \\\\ x_3 \\\\ \\vdots \\\\ x_{n-1} \\\\ x_n \\end{bmatrix} - - - -\\dots(7) $$"
   ]
  },
  {
   "cell_type": "markdown",
   "metadata": {},
   "source": [
    "##### Example 2\n",
    "Find the state-space representation in phase-variable form for the transfer function shown in Figure 1a below\n",
    "![Figure 1](https://selene.hud.ac.uk/u1273400/images/seg_media/s5.PNG)\n",
    "**Figure 1:** a. Transfer function b. equivalent block diagram shoing phase variables."
   ]
  },
  {
   "cell_type": "markdown",
   "metadata": {},
   "source": [
    "##### Solution\n",
    "###### Step 1\n",
    "Find the associated differential equation\n",
    "Since \n",
    "$$ \\frac{C(s)}{R(s)}=\\frac{24}{s^3+9s^2+26s+24} - - - - \\dots(16)  $$\n",
    "cross multiplying yields\n",
    "$$ (s^3+9s^2+26s+24)C(s)=24R(s) - - - - \\dots(17) $$\n",
    "\n",
    "The corresponding differential equation is found by taking the inverse Laplace transform, assuming zero initial conditions:\n",
    "$$ \\dddot{c}+9\\ddot{c}+26\\dot{c}+24c=24r - - - - \\dots(18) $$"
   ]
  },
  {
   "cell_type": "markdown",
   "metadata": {},
   "source": [
    "The corresponding matrix equation is given as:\n",
    "\n",
    "At this point, we can create an equivalent block diagram of the system to help visualise the state variables.  We draw three integral blocks a shown and lebel each output as the corresponding state variables as shown."
   ]
  },
  {
   "cell_type": "markdown",
   "metadata": {},
   "source": [
    "$$ \\begin{matrix}\n",
    "\\begin{bmatrix}\\dot{x}_1\\\\ \\dot{x}_2\\\\ \\dot{x}_3\\\\ \\vdots\\\\ \\dot{x}_{n-1}\\\\ \\dot{x}_n \\end{bmatrix}=\n",
    "\\begin{bmatrix}\n",
    "0 & 1 & 0 & 0 & \\dots & 0 \\\\\n",
    "0 & 0 & 1 & 0 & \\dots & 0 \\\\\n",
    "0 & 0 & 0 & 1 & \\dots & 0 \\\\\n",
    "\\vdots \\\\\n",
    "0 & 0 & 0 & 0 & \\dots & 1 \\\\\n",
    "-a_0&-a_1&-a_2&-a_3&\\dots&-a_{n-1}\n",
    "\\end{bmatrix}\n",
    "\\begin{bmatrix}x_1\\\\ x_2\\\\ x_3\\\\ \\vdots\\\\ x_{n-1}\\\\ x_n \\end{bmatrix}+\n",
    "\\begin{bmatrix}0 \\\\ 0 \\\\ 0 \\\\ \\vdots\\\\ 0 \\\\ b_0 \\end{bmatrix}r\n",
    "\\dots(6)\n",
    "\\end{matrix} $$"
   ]
  },
  {
   "cell_type": "markdown",
   "metadata": {},
   "source": [
    "#### Method 2: Polynomial in s in the numberator\n",
    "\n",
    "*If a transfer function has a polynomial in s in the numerator that is of order less than the polynomial in the denominator, as shown in figure 2a, the numerator and denomenator can be handled separately.  First separate the transfer function into two cascaded transfer functions, as shown in Figure 2b; the first is the denomenator and the second is the numerator.*\n",
    "![figure 2](https://selene.hud.ac.uk/u1273400/images/seg_media/c4.PNG)\n",
    "**Figure 2: ** Decomposing a transfer function"
   ]
  },
  {
   "cell_type": "markdown",
   "metadata": {},
   "source": [
    "*The first transfer function with just the denominator is converted to the phase-variable representation in state space as shown in the preceding method and examples.  Hence, phase variable x<sub>1</sub> is the output, and the rest of the phase variables are the internal variables of the first block, as shown in Figure 2b.  The second transfer function with just the numerator yields*\n",
    "$$ Y(s) = C(s) = (b_2s^2+b_1s+b_0)X_1(s) - - - - \\dots(19) $$\n",
    "*where, after taking the inverse Laplace transform with zero initial conditions,*\n",
    "$$ y(t)=b_2\\frac{d^2x_1}{dt^2}+b_1\\frac{dx_1}{dt}+b_0x_1 - - - - \\dots(20) $$\n",
    "*But the derivative terms are the definitions of the phase variables obtained in the first block.  Thus, writing the terms in reverse order to conform to an output equation,*\n",
    "$$ y(t)=b_0x_1+b_1x_2+b_2x_3 - - - - \\dots(21) $$"
   ]
  },
  {
   "cell_type": "markdown",
   "metadata": {},
   "source": [
    "*Hence, the second block simply forms a specified linear combination of the state variables developed in the first block.* In summary we choose n-state (phase) variables as an \"intermediate\" output and the (n-1) derivatives of this intermediate output.\n",
    "\n",
    "*From another perspective, the denominator of the transfer function yields the state equations, while the numerator yields the output equation. The next example demonstrates the process.*"
   ]
  },
  {
   "cell_type": "markdown",
   "metadata": {},
   "source": [
    "##### Example 3\n",
    "Express the folloing transfer function in state variable notation.\n",
    "$$ \\frac{Y(s)}{U(s)}=\\frac{s^2+7s+2}{s^3+9s^2+26s+24} - - - -\\dots(22) $$\n",
    "\n",
    "We write equation (22) in terms of an \"intermediate\" output x<sub>1</sub>(s) a follows:\n",
    "$$ \\frac{X_1(s)}{U(s)}=\\frac{1}{s^3+9s^2+26s+24} - - - -\\dots(23) $$\n",
    "\n",
    "$$ \\frac{Y(s)}{X_1(s)}=s^2+7s+2 - - - -\\dots(24) $$"
   ]
  },
  {
   "cell_type": "markdown",
   "metadata": {},
   "source": [
    "From equation 23 we have\n",
    "$$\\therefore (s^3+9s^2+26s+24)X_1(s)=u(s) - - - - \\dots(25)$$"
   ]
  },
  {
   "cell_type": "markdown",
   "metadata": {},
   "source": [
    "Taking the inverse Laplace Transforms of equation (25) we have:\n",
    "$$ \\dddot{x}+9\\ddot{x}+26\\dot{x}+24y=u - - - - \\dots(26)$$"
   ]
  },
  {
   "cell_type": "markdown",
   "metadata": {},
   "source": [
    "We now choose our state variables as follows recalling y is the system output.  Recall that\n",
    "$$\\begin{aligned} x_1 \\\\ x_2 &=\\dot{x}_1 \\\\ x_3 &=\\dot{x}_2= \\ddot{x}_1 \\end{aligned} - - - - \\dots(27) $$\n",
    "Also note that $$ \\dot{x}_3=\\dddot{x}_1 - - - - \\dots(28) $$"
   ]
  },
  {
   "cell_type": "markdown",
   "metadata": {},
   "source": [
    "From equations (5), (26), (27) and (28) we may write\n",
    "$$ \\dot{x}_3=-24x_3-26x_2-9x_1+u - - - - \\dots(29) $$\n",
    "\n",
    "There fore the state variable matrix equation can be derived as follows:\n",
    "\n",
    "$$ \\begin{matrix}\n",
    "\\begin{bmatrix}\\dot{x}_1\\\\ \\dot{x}_2\\\\ \\dot{x}_3\\\\ \\vdots\\\\ \\dot{x}_{n-1}\\\\ \\dot{x}_n \\end{bmatrix}=\n",
    "\\begin{bmatrix}\n",
    "0 & 1 & 0 & 0 & \\dots & 0 \\\\\n",
    "0 & 0 & 1 & 0 & \\dots & 0 \\\\\n",
    "0 & 0 & 0 & 1 & \\dots & 0 \\\\\n",
    "\\vdots \\\\\n",
    "0 & 0 & 0 & 0 & \\dots & 1 \\\\\n",
    "-a_0&-a_1&-a_2&-a_3&\\dots&-a_{n-1}\n",
    "\\end{bmatrix}\n",
    "\\begin{bmatrix}x_1\\\\ x_2\\\\ x_3\\\\ \\vdots\\\\ x_{n-1}\\\\ x_n \\end{bmatrix}+\n",
    "\\begin{bmatrix}0 \\\\ 0 \\\\ 0 \\\\ \\vdots\\\\ 0 \\\\ b_0 \\end{bmatrix}u\n",
    "\\end{matrix} $$"
   ]
  },
  {
   "cell_type": "markdown",
   "metadata": {},
   "source": [
    "From equation (24) we have\n",
    "$$ Y(s)=(s^2+7s+2)X_1(s) - - - -\\dots(30) $$\n",
    "From equation (31) and (27) we have\n",
    "$$ y=x_3+7x_2+2x_1 $$\n",
    "and so"
   ]
  },
  {
   "cell_type": "markdown",
   "metadata": {},
   "source": [
    "And the corresponding output equation is given as\n",
    "$$ y=\\begin{bmatrix}1 & 0 & 0 & \\dots  & 0 \\end{bmatrix}\n",
    "\\begin{bmatrix}x_1 \\\\ x_2 \\\\ x_3 \\\\ \\vdots \\\\ x_{n-1} \\\\ x_n \\end{bmatrix}  $$"
   ]
  },
  {
   "cell_type": "markdown",
   "metadata": {},
   "source": [
    "##### Example 4\n",
    "Find the state space representation of the transfer functio shown in figure 3 below\n",
    "![Figure 3](https://selene.hud.ac.uk/u1273400/images/seg_media/c5.PNG)\n",
    "**Figure 3:** a. Transfer function b. decomposed transfer function c. equivalent block diagram"
   ]
  },
  {
   "cell_type": "markdown",
   "metadata": {},
   "source": [
    "##### Solution:\n",
    "###### Step 1:\n",
    "Separate the system into two cascaded blocks.  The first block contains the denominator and the second block contains the numerator.\n",
    "\n",
    "###### Step 2:\n",
    "Find the state equations for the block containing the denominator.  We notice that the first block's numerator is 1/24 . That of example 2.  Thus the stae equations are the same except that the input is 1 and not 24.  Therefore the state equation is given as"
   ]
  },
  {
   "cell_type": "markdown",
   "metadata": {},
   "source": [
    "$$ \\begin{matrix}\n",
    "\\begin{bmatrix}\\dot{x}_1\\\\ \\dot{x}_2\\\\ \\dot{x}_3\\\\ \\vdots\\\\ \\dot{x}_{n-1}\\\\ \\dot{x}_n \\end{bmatrix}=\n",
    "\\begin{bmatrix}\n",
    "0 & 1 & 0 & 0 & \\dots & 0 \\\\\n",
    "0 & 0 & 1 & 0 & \\dots & 0 \\\\\n",
    "0 & 0 & 0 & 1 & \\dots & 0 \\\\\n",
    "\\vdots \\\\\n",
    "0 & 0 & 0 & 0 & \\dots & 1 \\\\\n",
    "-a_0&-a_1&-a_2&-a_3&\\dots&-a_{n-1}\n",
    "\\end{bmatrix}\n",
    "\\begin{bmatrix}x_1\\\\ x_2\\\\ x_3\\\\ \\vdots\\\\ x_{n-1}\\\\ x_n \\end{bmatrix}+\n",
    "\\begin{bmatrix}0 \\\\ 0 \\\\ 0 \\\\ \\vdots\\\\ 0 \\\\ b_0 \\end{bmatrix}r\n",
    "\\end{matrix} $$"
   ]
  },
  {
   "cell_type": "markdown",
   "metadata": {},
   "source": [
    "###### Step 3:\n",
    "Introduce the effect of the block withthe numerator.  The second block of with the numerator.  The second block of Figure 3b where b<sub>2</sub>=1, b<sub>1</sub>=7, and b<sub>0</sub>=2, states that\n",
    "$$ C(s)=(b_2s^2+b_1s+b_0)X_1(s)=(s^2+7s+2)X_1(s) - - - -\\dots(31)$$\n",
    "\n",
    "Taking the inverse Laplace transform wth zero initial conditions, we get"
   ]
  },
  {
   "cell_type": "markdown",
   "metadata": {},
   "source": [
    "$$ c= \\ddot{x}_1+7\\dot{x}_1+2x_1 - - - -\\dots(32) $$\n",
    "\n",
    "but\n",
    "$$\\begin{aligned}x_1=x_1, \\\\ \\dot{x}_1=x_2, \\\\ \\ddot{x}_1=x_3 \\end{aligned}$$\n",
    "Hence,\n",
    "$$ y=c(t)=b_2x_3+b_1x_2+b_0x_1=x_3+7x_2+2x_1 - - - - \\dots(32)$$\n",
    "\n",
    "Thus, the last box of Figure 3b \"collects\" the states and generates the output equation."
   ]
  },
  {
   "cell_type": "markdown",
   "metadata": {},
   "source": [
    "$$ y=\\begin{bmatrix}b_0 & b_1 & b_2 \\end{bmatrix}\n",
    "\\begin{bmatrix}x_1 \\\\ x_2 \\\\ x_3 \\end{bmatrix} =\\begin{bmatrix}2 & 7 & 1 \\end{bmatrix}\n",
    "\\begin{bmatrix}x_1 \\\\ x_2 \\\\ x_3 \\end{bmatrix}  $$"
   ]
  },
  {
   "cell_type": "markdown",
   "metadata": {},
   "source": [
    "*Although the second block of figure 3(b) shows differentiation, this block was implemented without differentiation because of the partitioning that was applied to the transfer function.  The last block simply collected derivatives that were already formed by the first block.*\n",
    "\n",
    "*Once again we can produce an equivalent block diagram that vividly represents our state-space model.  The first block of Figure 3(b) is the same a Figure 2(a) except for the different constant in the numerator.  Thus, in Figure 3(c), we reproduce Figure 2(b) except for the change in the numerator constant, which appears as a change in the input multiplying factor.  The second block of Figure 3(b) is represented using equation (32), which forms the output from a linear combination of the state variables shown in Figure 3(c).*\n"
   ]
  }
 ],
 "metadata": {
  "kernelspec": {
   "display_name": "R",
   "language": "R",
   "name": "ir"
  },
  "language_info": {
   "codemirror_mode": "r",
   "file_extension": ".r",
   "mimetype": "text/x-r-source",
   "name": "R",
   "pygments_lexer": "r",
   "version": "3.2.2"
  }
 },
 "nbformat": 4,
 "nbformat_minor": 0
}
