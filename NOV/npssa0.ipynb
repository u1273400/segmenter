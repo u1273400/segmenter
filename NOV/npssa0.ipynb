{
 "cells": [
  {
   "cell_type": "markdown",
   "metadata": {},
   "source": [
    "## STATE VARIABLE ANALYSIS\n",
    "### DEFINITIONS\n",
    "1. A system which is defined by an nth order differential equation can be considered as containing n distinct variables x<sub>1</sub>, x<sub>2</sub>, x<sub>3</sub> .. x<sub>n</sub> which are known as ‘state variables’\n",
    "2. If m inputs are applied to the system then it is not possible to write down n first order differential equations for the system in terms of these m inputs and the n state variables, as follows.\n",
    "\n",
    "$$ \\begin{aligned}\n",
    "\\frac{dx_1}{dt}=a_{11} x_1+a_{12} x_2+..+a_{1n} x_n+a_{11} u_1 (t)+b_{12} u_2 (t)+..+b_{1m} u_m .\n",
    "\\\\ \\frac{dx_2}{dt}=a_{21} x_1+a_{22} x_2+..+a_{2n} x_n+a_{21} u_1 (t)+b_{22} u_2 (t)+..+b_{2m} u_m .\n",
    "\\\\ \\frac{dx_3}{dt}=a_{31} x_1+a_{32} x_2+..+a_{3n} x_n+a_{31} u_1 (t)+b_{32} u_2 (t)+..+b_{3m} u_m .\n",
    "\\end{aligned} $$\n",
    "Where u<sub>1</sub>(t), u<sub>2</sub>(t),.. u<sub>m</sub>(t) are the system inputs while b<sub>11</sub>..b<sub>nm</sub> and a<sub>11</sub> .. a<sub>nm</sub> are constants. The equations on the previous state can be written in more compact matrix notation as follows\n",
    "$$ X ̇=Ax+Bu.\t- - - \\dots(1) $$"
   ]
  },
  {
   "cell_type": "markdown",
   "metadata": {},
   "source": [
    "- Matrix A is the system matrix and nxn (i.e. n rows and n columns)\n",
    "- Matrix B is the input matrix and is nxm (n rows m columns)\n",
    "- Equation (1) is the **MATRIX STATE EQUATION**\n",
    "\t"
   ]
  },
  {
   "cell_type": "markdown",
   "metadata": {},
   "source": [
    "Let us now suppose that there are r system outputs which are of interest to us.  These outputs are y<sub>1</sub>, y<sub>2</sub>, .. y<sub>r</sub>.  The outputs can be defined in terms of the n state variables and the m inputs by the r simultaneous equations.  These r simultaneous equations are written in the (compact matrix form below\n",
    "$$ Y = C x + D u - - - - \\dots(2) $$\n",
    "- Matrix C is the system output matrix (containing constants) and r x n ( r rows and n columns)\n",
    "- Matrix D is the direct feed through matrix and is r x m (r rows and m columns). Matrix D contains constants.\n",
    "- Equation (2) is the **MATRIX OUTPUT EQUATION**\n",
    "- For any system, the outputs contained in Y can be evaluated for given inputs (u<sub>1</sub>(t)..u<sub>m</sub>(t)) PROVIDED THAT A, B, C, and D are all known (and fully defined)."
   ]
  },
  {
   "cell_type": "markdown",
   "metadata": {},
   "source": [
    "A package such as matlab uses the input to the matrices A, B, C, D and for the system thus defined, determine the system outputs y<sub>1</sub>, y<sub>2</sub>, .. y<sub>r</sub> for given system inputs u<sub>1</sub>(t)..u<sub>m</sub>(t)."
   ]
  },
  {
   "cell_type": "markdown",
   "metadata": {},
   "source": [
    "#### Example\n",
    "Given the figure below\n",
    "![Figure 1](https://selene.hud.ac.uk/u1273400/images/seg_media/c1.PNG)\n",
    "- Mass = M\n",
    "- Spring stiffness= K\n",
    "- Damping constant f\n",
    "\n",
    "The system is a 2nd order, that is to say, a second order differential equation relates the displacement to the applied force P(t) as follows:\n",
    "$$ P(t)=M\\frac{d^2 x_1}{dt^2}+f\\frac{dx_1}{dt}+kx_1 -\t- - -\\dots(3) $$"
   ]
  },
  {
   "cell_type": "markdown",
   "metadata": {},
   "source": [
    "There is a single input P(t) to the system.  Since the system is 2nd order, we require 2 stable state variables as described above.  The best choices for these state variables are x<sub>1</sub> (displacement of mass) and x<sub>2</sub> (velocity of mass) – because we can write two first order differential equations in terms of these variables as shown below (if we had chosen acceleration of mass as a stable variable, we would not have been able to write an expression for dx<sub>3</sub>/dt).\n",
    "\t"
   ]
  },
  {
   "cell_type": "markdown",
   "metadata": {},
   "source": [
    "We know that velocity is the derivative of displacement with respect to time therefore\n",
    "$$ x_2=\\frac{dx_1}{dt} - - - -\t\\dots(4) $$\n",
    "\t"
   ]
  },
  {
   "cell_type": "markdown",
   "metadata": {},
   "source": [
    "From equation (4)\n",
    "$$\\frac{dx_2}{dt}=\\frac{d^2 x_1}{dt^2} - - - - \\dots\t(5) $$\n",
    "\t"
   ]
  },
  {
   "cell_type": "markdown",
   "metadata": {},
   "source": [
    "Substituting (4) and (5) into (3) gives\n",
    "$$\tP(t)=M\\frac{dx_2}{dt}+fx_2+kx_1 . $$\n",
    "\tAnd so\n",
    "$$\\begin{aligned}\n",
    "\\frac{dx_2}{dt}& =\\frac{-f}{M}x_2-\\frac{k}{M}x_1+\\frac{P(t)}{M} - - - - \\dots (6) \\\\\n",
    "\\text{And  }\\frac{dx_1}{dt}& =x_2.\\text{ From (4)}\n",
    "\\end{aligned} $$\n",
    "\t"
   ]
  },
  {
   "cell_type": "markdown",
   "metadata": {},
   "source": [
    "$$\\begin{matrix}\n",
    "\\begin{bmatrix} \\frac{dx_2}{dt} \\\\ \\frac{dx_1}{dt} \\end{bmatrix} & = & \n",
    "\\begin{bmatrix} 0 & 1 \\\\ -\\frac{k}{M} & \\frac{-f}{M} \\end{bmatrix}  & \n",
    "\\begin{bmatrix} x_1 \\\\ x_2 \\end{bmatrix} & + &\n",
    "\\begin{bmatrix} 0 \\\\ \\frac{1}{M}\\end{bmatrix}  & [P(t)] \\\\\n",
    "\\dot{x} & & A & x & & B & u\n",
    "\\end{matrix} - - - - \\dots(7) $$"
   ]
  },
  {
   "cell_type": "markdown",
   "metadata": {},
   "source": [
    "- Equations (4) and (6) are our two required 1st order differential equations in terms of the (one) input and the two state variables.\n",
    "- Equations (6) and (4) can be written in matrix notation to provide the system matrix A and the input matrix B as follows\n",
    "\t"
   ]
  },
  {
   "cell_type": "markdown",
   "metadata": {},
   "source": [
    "Let us now suppose that the only output in which we are interested is the displacement x<sub>1</sub> of the mass.  Accordingly, we can write down the following matrix output equation with the following output  matrix C and direct feed through matrix D\n",
    "\t"
   ]
  },
  {
   "cell_type": "markdown",
   "metadata": {},
   "source": [
    "$$\\begin{matrix}\n",
    "y_1 & = & \\begin{bmatrix} 1 & 0 \\end{bmatrix} &\n",
    "\\begin{bmatrix} x_1 \\\\ x_2 \\end{bmatrix} & + &\n",
    "0 & [P(t)] \\\\\n",
    "Y & = & C & x & & D & u\n",
    "\\end{matrix} - - - - \\dots(8) $$"
   ]
  },
  {
   "cell_type": "markdown",
   "metadata": {},
   "source": [
    "Note that if we had only been interested in the velocity $x_2$ as the system output, our matrix would have been\n",
    "$$\\begin{matrix}\n",
    "y_1 & = & \\begin{bmatrix} 0 & 1 \\end{bmatrix} &\n",
    "\\begin{bmatrix} x_1 \\\\ x_2 \\end{bmatrix} & + &\n",
    "0 & [P(t)] \\\\\n",
    "Y & = & C & x & & D & u\n",
    "\\end{matrix} - - - - \\dots(9) $$"
   ]
  },
  {
   "cell_type": "markdown",
   "metadata": {},
   "source": [
    "If we let M=1kg, k=1000kgs<sup>-2</sup>and f=12.65kgs<sup>-1</sup> our matrices A, B, C and D are defined as follows (from equations (7) and (8))\n",
    "$$\\begin{aligned}\n",
    "A &= \\begin{bmatrix}0&1\\\\-1000 &-12.65\\end{bmatrix}& - - (10) & \\\\\n",
    "B &= \\begin{bmatrix}0 \\\\ 1 \\end{bmatrix}& - - (11) & \\\\\n",
    "C &= \\begin{bmatrix}1 & 0 \\end{bmatrix}& - - (12)  & \\text{ displacement is the required output} \\\\\n",
    "D &= [0]\t&- - (13) &\n",
    "\\end{aligned} $$"
   ]
  },
  {
   "cell_type": "markdown",
   "metadata": {},
   "source": [
    "Let us now suppose we wish to subject the system shown in fig 1 and defined by equations (10) – (13) to a step input such that the value of P(t) changes from 0 to 150N at t=0. We wish to tsee the resultant variation in displacement x<sub>1</sub> with time."
   ]
  },
  {
   "cell_type": "markdown",
   "metadata": {},
   "source": [
    "#### MATLAB COMMANDS\n",
    "\n",
    "    >>g=ss(A,B,C,D); %A,B,C,D are matrices defined above\n",
    "    >>step(150*g);\n",
    "    >>h=tf(g); % to obtain the transfer function.\n",
    "\n",
    "If we had wanted to investigate how the velocity of the mass changed with time as a result of the step change in the applied force then equations (7) and (9) would change as follows:"
   ]
  },
  {
   "cell_type": "markdown",
   "metadata": {},
   "source": [
    "$$\\begin{aligned}\n",
    "A &= \\begin{bmatrix}0&1\\\\-1000 &-12.65\\end{bmatrix}& - - (10) & \\\\\n",
    "B &= \\begin{bmatrix}0 \\\\ 1 \\end{bmatrix}& - - (11) & \\\\\n",
    "C &= \\begin{bmatrix}0 & 1 \\end{bmatrix}& - - (12)  & \\text{ displacement is the required output} \\\\\n",
    "D &= [0]\t&- - (13) &\n",
    "\\end{aligned} $$\n",
    "\n",
    "It should be apparent that, in order to find the variation of velocity x<sub>2</sub> with time as a result of the step change in P(t) from 0 to 150N at t=0, it is only necessary to change a single line of the code."
   ]
  },
  {
   "cell_type": "markdown",
   "metadata": {},
   "source": [
    "### OBTAINING ‘s’ TRANSFER FUNCTIONS FROM THE MATRIX EQUATION AND THE MATRIX OUTPUT EQUATION (obtaining ‘s’ transfer function from state  variable equations)\n",
    "\n",
    "When using state variable feedback control methods (in future lectures) it is sometimes necessary to convert state variable equations to transfer functions.  The procedure for doing this is outlined below\n",
    "$$\tX ̇=Ax+Bu.\t- - - - \\dots(1) $$\n",
    "Matrix state equation\n",
    "$$\tY = C x + D u - - - -\t\\dots(2) $$\n",
    "(matrix output equation)\n",
    "\n",
    "If all of the state variables are equal to zero at t=0 (e.g. the state variables may be perturbation variables) then by taking Laplace Transform of equation (1) we have\n",
    "$$\tsX(s) = Ax(s) + Bu(s) \t- - - - \\dots(3) $$\n",
    "\n",
    "Taking Laplace Transform of equation (2) gives\n",
    "$$\tY(s) = Cx(s) + Du(s) \t- - - - \\dots(4) $$\n",
    "\n",
    "From equation (3) we have\n",
    "$$\tsX(s) – Ax(s) = Bu(s) \t- - - - \\dots(5)$$\t"
   ]
  },
  {
   "cell_type": "markdown",
   "metadata": {},
   "source": [
    "For an nth order system, matrix A is “n x n” and so in order to evaluate the l.h.s. of equation (5) we must introduce an “n x n” unit matrix denoted I. Equation (5) can then be expressed as:\n",
    "$$\t(sI – A)x(s) = Bu(s) \t- - - - \\dots(6) $$\n",
    "\t\n",
    "Multiplication of both sides of equation (6) by $(sI-A)^{-1}$ (where the exponent -1 denotes “inverse matrix”) gives\n",
    "$$\\begin{matrix}\t(sI-A)^{-1} (sI – A)x(s) = (sI-A)^{-1} Bu(s) \\\\ \\text{ OR}\n",
    "\\\\\tx(s) = (sI-A)^{-1} Bu(s) \\end{matrix}\t- - - -\\dots(7) $$"
   ]
  },
  {
   "cell_type": "markdown",
   "metadata": {},
   "source": [
    "substituting equation (7) into equation (4) gives \n",
    "$$\tY(s) = C(sI-A)^{-1} Bu(s)  + Du(s) \t- - - - \\dots(8) $$\n",
    "\n",
    "Equation (8) may be written as\n",
    "$$\tG(s)=\\frac{Y(s)}{U(s)}=C(sI-A)^{-1} Bu(s)+Du(s) -\t- - - \\dots(9) $$"
   ]
  },
  {
   "cell_type": "markdown",
   "metadata": {},
   "source": [
    "Matrix G(s) is shown as the “matrix transfer function”.  It relates the Laplace transforms of the systems outputs (contained within Y(s)) to the Laplace transforms of the systems inputs (contained in u(s))\n",
    "\n",
    "We know that the number of outputs “r” in Y corresponds to the number of state variables of interest that we wish to consider as outputs.\n",
    "\n",
    "Consequently, G(s) contains “r” elements, each element corresponding to a transfer function relating the Laplace transform of a specific output (state variable) to the Laplace Transform of the system inputs.\n",
    "\n",
    "Note C is “r x n”, $(sI-A)^{-1}$ is “n x n” and b is “n x 1” for a single input.  Therefore $C(sI-A)^{-1}B$ is “r x 1” for a single input."
   ]
  },
  {
   "cell_type": "markdown",
   "metadata": {},
   "source": [
    "#### Example 1\n",
    "Let us consider the example of the “spring-mass-damper” system. The matrix state equation can be written as:\n",
    "$$\\begin{matrix}\n",
    "\\begin{bmatrix} \\frac{dx_2}{dt} \\\\ \\frac{dx_1}{dt} \\end{bmatrix} & = & \n",
    "\\begin{bmatrix} 0 & 1 \\\\ -\\frac{k}{M} & \\frac{-f}{M} \\end{bmatrix}  & \n",
    "\\begin{bmatrix} x_1 \\\\ x_2 \\end{bmatrix} & + &\n",
    "\\begin{bmatrix} 0 \\\\ \\frac{1}{M}\\end{bmatrix}  & [P(t)] \\\\\n",
    "\\dot{x} & & A & x & & B & u\n",
    "\\end{matrix} - - - - \\dots(10) $$\t"
   ]
  },
  {
   "cell_type": "markdown",
   "metadata": {},
   "source": [
    "We will use a slightly different output equation because we are now considering both x1 (displacement) and x2 (velocity) as outputs of interest\n",
    "$$\\begin{matrix}\n",
    "\\begin{bmatrix} y_1 \\\\ y_2 \\end{bmatrix} & = & \\begin{bmatrix} 1 & 0 \\\\ 0 & 1 \\end{bmatrix} &\n",
    "\\begin{bmatrix} x_1 \\\\ x_2 \\end{bmatrix} & + &\n",
    "\\begin{bmatrix} 0 \\\\ 0 \\end{bmatrix} & [P(t)] \\\\\n",
    "Y & = & C & x & & D & u\n",
    "\\end{matrix} - - - - \\dots(11) $$"
   ]
  },
  {
   "cell_type": "markdown",
   "metadata": {},
   "source": [
    "With reference to equation (6), equation (10) can be written in the form (sI-A)x(s)=Bu(s) as follows\n",
    "$$\\begin{matrix}\n",
    "\\begin{Bmatrix}\n",
    "s\\begin{bmatrix} 1 & 0 \\\\ 0 & 1 \\end{bmatrix} -\n",
    "\\begin{bmatrix} 0 & 1 \\\\ -\\frac{k}{M} & \\frac{-f}{M} \\end{bmatrix}\n",
    "\\end{Bmatrix}x(s) = \\begin{bmatrix} 0 \\\\ \\frac{1}{M}\\end{bmatrix} [P(s)]\n",
    "\\\\ OR \\\\\n",
    "\\begin{Bmatrix}\n",
    "\\begin{bmatrix} s & 0 \\\\ 0 & s \\end{bmatrix} -\n",
    "\\begin{bmatrix} 0 & 1 \\\\ -\\frac{k}{M} & \\frac{-f}{M} \\end{bmatrix}\n",
    "\\end{Bmatrix}x(s) = \\begin{bmatrix} 0 \\\\ \\frac{1}{M}\\end{bmatrix} [P(s)]\n",
    "\\end{matrix}$$"
   ]
  },
  {
   "cell_type": "markdown",
   "metadata": {},
   "source": [
    "Therefore \n",
    "$$\\begin{matrix}\n",
    "\\begin{Bmatrix}\n",
    "\\begin{bmatrix} s & -1 \\\\ -\\frac{k}{M} & s+\\frac{-f}{M} \\end{bmatrix}\n",
    "\\end{Bmatrix}x(s) = \\begin{bmatrix} 0 \\\\ \\frac{1}{M}\\end{bmatrix} [P(s)]\n",
    "\\end{matrix}- - - -\t\\dots(12) $$"
   ]
  },
  {
   "cell_type": "markdown",
   "metadata": {},
   "source": [
    "Thus  $sI-A=\\begin{bmatrix} s & -1 \\\\ \\frac{k}{M} & s+\\frac{-f}{M} \\end{bmatrix} \t- - - -\\dots(13)$\n",
    "\n",
    "Note for a 2x2 matrix Q of the form $Q= \\begin{bmatrix} q_1 & q_2 \\\\ q_3 & q_4 \\end{bmatrix}$ \n",
    "\n",
    "Then  \n",
    "$$ Q^{-1}=  \\frac{1}{q_1 q_4-q_2 q_3}\\begin{bmatrix} q_4 & -q_2 \\\\ -q_3 & q_1 \\end{bmatrix} $$"
   ]
  },
  {
   "cell_type": "markdown",
   "metadata": {},
   "source": [
    "And where the quantity q<sub>1</sub>q<sub>4</sub>-q<sub>2</sub>q<sub>3</sub> is the determinant of the matrix, which is denoted by Δ from equation (13)\n",
    "\n",
    "Thus  $$(sI-A)^{-1}= \\frac{1}{∆} \\begin{bmatrix} s+\\frac{-f}{M} & 1 \\\\ -\\frac{k}{M} & s \\end{bmatrix} -\t- - -\\dots(14)$$\n",
    "\n",
    "Where $$Δ=s\\left(s+\\frac{f}{M}\\right)+\\frac{k}{M}\t- - - - \\dots(15)$$"
   ]
  },
  {
   "cell_type": "markdown",
   "metadata": {},
   "source": [
    "With reference to equation (9) and using equations (14) and (11)\n",
    "$$C(sI-A)^{-1}= \\begin{bmatrix} 1 & 0 \\\\ 0 & 1 \\end{bmatrix}.\\frac{1}{∆} \\begin{bmatrix} s+\\frac{-f}{M} & 1 \\\\ -\\frac{k}{M} & s \\end{bmatrix} -\t- - -\\dots(16)$$"
   ]
  },
  {
   "cell_type": "markdown",
   "metadata": {},
   "source": [
    "With reference to equation (9) and using equations (16) and (10)\n",
    "$$C(sI-A)^{-1}B= \\begin{bmatrix} 1 & 0 \\\\ 0 & 1 \\end{bmatrix}.\\frac{1}{∆} \\begin{bmatrix} s+\\frac{-f}{M} & 1 \\\\ -\\frac{k}{M} & s \\end{bmatrix}\\begin{bmatrix} 0 \\\\ -\\frac{1}{M} \\end{bmatrix} $$\n",
    "\n",
    "Therefore \n",
    "$$C(sI-A)^{-1}B= \\frac{1}{∆} \\begin{bmatrix} \\frac{1}{M} \\\\ \\frac{s}{M} \\end{bmatrix} -\t- - -\\dots(17)$$"
   ]
  },
  {
   "cell_type": "markdown",
   "metadata": {},
   "source": [
    "With reference to equation (9), using equation (17) and using the fact that $D=\\begin{matrix}0 \\\\ 0 \\end{matrix}$ in equation (11) we have:\n",
    "$$\tG(s)=\\frac{Y(s)}{(U(s)}=C(sI-A)^{-1}Bu(s)+Du(s)= \\frac{1}{∆} \\begin{bmatrix} \\frac{1}{M} \\\\ \\frac{s}{M} \\end{bmatrix} -\t- - -\\dots(18)$$\n",
    "and since, from equation (15) Δ=s(s+f/M)+k/M, we have:\n",
    "$$\tG(s)=\\frac{Y(s)}{(U(s)}= \\frac{1}{s^2+s\\frac{f}{M}+\\frac{k}{M}} \\begin{bmatrix} \\frac{1}{M} \\\\ \\frac{s}{M} \\end{bmatrix} -\t- - -\\dots(18)$$\n",
    "Therefore \n",
    "$$\tG(s)=\\begin{bmatrix} \\frac{1}{s^2+s\\frac{f}{M}+\\frac{k}{M}} \\\\ \\frac{s}{s^2+s\\frac{f}{M}+\\frac{k}{M}} \\end{bmatrix} -\t- - -\\dots(19)$$\n",
    "\t"
   ]
  },
  {
   "cell_type": "markdown",
   "metadata": {},
   "source": [
    "In this example the input u(s) is simply the applied force P(s).  The top element in G(s) is therefore the transfer function relating the Laplace Transform of output y<sub>1</sub>(s) to P(s).  From equation (11) we know that y<sub>1</sub>(s) is equivalent to the Laplace Transform of the state variable x<sub>1</sub> (displacement)"
   ]
  },
  {
   "cell_type": "markdown",
   "metadata": {},
   "source": [
    "Therefore \n",
    "$$\t\\frac{x_1 (s)}{P(s)}= \\frac{1}{Ms^2+sf+k} - - - -\t\\dots(20)$$\n",
    "\n",
    "Similarly, the lower element in G(s) is the transfer function relating the Laplace Transform of state variable x<sub>2</sub> (velocity) to P(s)."
   ]
  },
  {
   "cell_type": "markdown",
   "metadata": {},
   "source": [
    "Therefore\n",
    "$$\t\\frac{x_2 (s)}{P(s)}= \\frac{s}{Ms^2+sf+k} - - - -\t\\dots(20)$$"
   ]
  },
  {
   "cell_type": "markdown",
   "metadata": {},
   "source": [
    "### Applying the State Space Representation\n",
    "\n",
    "*The first step in representing a system is to selct the state vector, which must be chosen according to the following considerations.*\n",
    "\n",
    "1. *A minimum number of state variables must be selected as components of the state vector.  This minimum number of state variables is sufficient to describe the system*\n",
    "2. *The components of the state vector must be linearl independent. *"
   ]
  },
  {
   "cell_type": "markdown",
   "metadata": {},
   "source": [
    "#### Example 2\n",
    "Given the electrical network in the figure below, find the state-space representation if the output is the current through the resistor.\n",
    "![Figure 2](https://selene.hud.ac.uk/u1273400/images/seg_media/c2.PNG)"
   ]
  },
  {
   "cell_type": "markdown",
   "metadata": {},
   "source": [
    "#### Solution\n",
    "The folloing steps will yield a viable representation of the network in state space\n",
    "\n",
    "##### Step 1\n",
    "Label all of the branch currents in the network.  These include i<sub>L</sub>, i<sub>R</sub>, i<sub>C</sub> as shown\n",
    "\n",
    "##### Step 2\n",
    "Select the state variables by writing the derivative equation for all energy storage elements, that is, the inductor and the capacitor. Thus,\n",
    "$$ C\\frac{dv_C}{dt}=i_C - - - -\\dots(1) $$\n",
    "$$ L\\frac{di_L}{dt}=v_L - - - -\\dots(2) $$"
   ]
  },
  {
   "cell_type": "markdown",
   "metadata": {},
   "source": [
    "From equations (1) and (2) choose the state variables as the quantities that are differentiated, namely v<sub>C</sub> and i<sub>L</sub>. For a single input v(t), a linear, time-invariant second order system state equations can take the following form\n",
    "$$ \\frac{dx_1}{dt}=a_{11}x_1+a_{12}x_2+b_1 v(t) - - - - \\dots(3)$$\n",
    "$$ \\frac{dx_2}{dt}=a_{21}x_1+a_{22}x_2+b_2 v(t) - - - - \\dots(4)$$\n",
    "where x<sub>1</sub> and x<sub>2</sub> are the state variables.  If there is a single output, the output equation would take the form\n",
    "$$ y=c_{1}x_1+c_{2}x_2+d_1 v(t) - - - - \\dots(5)$$"
   ]
  },
  {
   "cell_type": "markdown",
   "metadata": {},
   "source": [
    "Using equation (3) as a guide, we see that the state-space representation is complete if the right-hand sides of equations (1) and (2) can be written as linear combinations of the state variables v<sub>C</sub> and i<sub>L</sub>, and the input v(t)."
   ]
  },
  {
   "cell_type": "markdown",
   "metadata": {},
   "source": [
    "##### Step 3\n",
    "Apply network theory, such as Kirchoff's voltage and current laws, to obtain i<sub>C</sub> and v<sub>L</sub> in terms of the state variables v<sub>C</sub> and i<sub>L</sub>. At Node 1,\n",
    "$$\\begin{aligned} i_C=-i_R+i_L \\\\\n",
    "= -\\frac{1}{R}v_C+i_L\n",
    "\\end{aligned} - - - - \\dots(6) $$"
   ]
  },
  {
   "cell_type": "markdown",
   "metadata": {},
   "source": [
    "which yeilds i<sub>C</sub> in terms of the state variables v<sub>C</sub> and i<sub>L</sub>.\n",
    "$$ v_L=-v_C+v(t) - - - - \\dots(7) $$\n",
    "which yields v<sub>L</sub> in terms of the state variable v<sub>C</sub> and the source v(t)."
   ]
  },
  {
   "cell_type": "markdown",
   "metadata": {},
   "source": [
    "##### Step 4\n",
    "Substitute the results of equations (6) and (7) into equations (1) and (2)\n",
    "\n",
    "$$ C\\frac{dv_C}{dt}=-\\frac{1}{R}v_C+i_L - - - -\\dots(8a) $$\n",
    "$$ L\\frac{di_L}{dt}=-v_C+v(t) - - - -\\dots(8b) $$\n",
    "OR\n",
    "$$ \\frac{dv_C}{dt}=-\\frac{1}{RC}v_C+\\frac{1}{C}i_L - - - -\\dots(9a) $$\n",
    "$$ \\frac{di_L}{dt}=-\\frac{1}{L}v_C+\\frac{1}{L}v(t) - - - -\\dots(9b) $$"
   ]
  },
  {
   "cell_type": "markdown",
   "metadata": {},
   "source": [
    "##### Step 5\n",
    "Find the output equation. Since the output is i<sub>R</sub>(t),\n",
    "$$ i_R=\\frac{1}{R}v_C - - - - \\dots(10) $$\n",
    "The final result for the state-space representation is found by representing equations (9) and (10) in vector-matrix form as follows\n",
    "$$\n",
    "\\begin{bmatrix} \\dot{v}_C \\\\ \\dot{i}_L \\end{bmatrix} = \\begin{bmatrix} -\\frac{1}{RC} & \\frac{1}{C} \\\\ -\\frac{1}{L} & 0 \\end{bmatrix} \n",
    "\\begin{bmatrix} v_C \\\\ i_L \\end{bmatrix}  + \n",
    "\\begin{bmatrix} 0 \\\\ \\frac{1}{L} \\end{bmatrix}  [v(t)] \n",
    "- - - - \\dots(11) $$\n",
    "\n",
    "$$\n",
    "i_R = \\begin{bmatrix} \\frac{1}{R} & 0 \\end{bmatrix} \n",
    "\\begin{bmatrix} v_C \\\\ i_L \\end{bmatrix} \n",
    " - - - - \\dots(12) $$"
   ]
  },
  {
   "cell_type": "markdown",
   "metadata": {},
   "source": [
    "where the dots indicates differentiation with respect to time"
   ]
  }
 ],
 "metadata": {
  "kernelspec": {
   "display_name": "R",
   "language": "R",
   "name": "ir"
  },
  "language_info": {
   "codemirror_mode": "r",
   "file_extension": ".r",
   "mimetype": "text/x-r-source",
   "name": "R",
   "pygments_lexer": "r",
   "version": "3.2.2"
  }
 },
 "nbformat": 4,
 "nbformat_minor": 0
}
