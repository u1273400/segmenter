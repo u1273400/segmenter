{
 "cells": [
  {
   "cell_type": "markdown",
   "metadata": {},
   "source": [
    "# nHC/CSH pROJECT\n",
    "\n",
    "## Introduction\n",
    "\n",
    "The nHC project stands for nano-House-Controller project.  The idea of the nHC is a network of ioT devices around the house that ensures a connected smart house(CSH).\n",
    "\n",
    "The main features of this project include:\n",
    "\n",
    "1. Low power controllers that can be powered over months\n",
    "2. Collection of trivial parameters including motion sensing, temperature, humidity, ambiency etc.\n",
    "3. Miniature control of trivial parameters plus an digital/analog i/o controller/actuation extension.\n",
    "4. interconnectivity of the controllers to a central hub that will have internet connectivity.\n",
    "5. wireless connectivity of devices\n",
    "\n",
    "The system diagram for the nHC project is as follows:\n",
    "![Figure 1](https://selene.hud.ac.uk/u1273400/images/seg_media/nhc.PNG)\n",
    "**Figure 1:** System diagram for the nHC project"
   ]
  },
  {
   "cell_type": "markdown",
   "metadata": {},
   "source": [
    "## Design\n",
    "\n",
    "The setup of the nHC project consists two major players.  The hub and the nano-controllers (ncs or minions). The overall goal of the minions is the most compact design having low power extended battery life.  In theory, the smaller the components are the less power they are to consume therefore, thankfully, both goals compliment each other and do not counteract each other.  On the other hand however, each of the constraints of power and minitaurisation requires a significant amount of engineering to achieve a production-satisfactory level of implementation.  The hub is the data aggregator, controller and communications hub.  Essentially the hub is the nHc system's link to the outside world offering both communications and control of the nHC system from the outside world.\n",
    "\n",
    "### Minion Components\n",
    "The minion will comprise the following components\n",
    "\n",
    "1. Microcontroller chip\n",
    "2. radio chip\n",
    "3. buzzer\n",
    "4. temperature humiditycontroller\n",
    "5. motion sensor\n",
    "6. io extesion\n",
    "\n",
    "The block diagram for the minion is as follows:\n",
    "![Figure 2](https://selene.hud.ac.uk/u1273400/images/seg_media/minion_bd.PNG)\n",
    "**Figure 2:** Block diagram for minion nano-controller"
   ]
  },
  {
   "cell_type": "markdown",
   "metadata": {},
   "source": [
    "#### The Microcontroller\n",
    "\n",
    "The STM32L0 is the micrcocontroller of choice for the nHC project. This microcontroller, in addition to standard interfacing features to the outside world also offers low power features that are desirable for the nHC specification.\n",
    "\n",
    "#### The radio chip\n",
    "<img src=\"https://selene.hud.ac.uk/u1273400/images/seg_media/e82.jpg\" width=\"200\">\n",
    "**Figure 2:** 433MHz wireless radio module\n",
    "<img src=\"https://selene.hud.ac.uk/u1273400/images/seg_media/e72.jpg\" width=\"200\">\n",
    "**Figure 3:** 2.5GHz wireless radio module\n",
    "\n",
    "#### The Buzzer\n",
    "\n",
    "#### The Temperature/humidity chip\n",
    "<img src=\"https://selene.hud.ac.uk/u1273400/images/seg_media/e42.jpg\" width=\"200\">\n",
    "**Figure 5:** 433MHz wireless radio module\n",
    "\n",
    "#### The PR motion sensor\n",
    "<img src=\"https://selene.hud.ac.uk/u1273400/images/seg_media/e32.jpg\" width=\"200\">\n",
    "**Figure 6:** PR motion sensor"
   ]
  },
  {
   "cell_type": "markdown",
   "metadata": {},
   "source": [
    "#### io extention"
   ]
  },
  {
   "cell_type": "markdown",
   "metadata": {
    "collapsed": true
   },
   "source": [
    "### The nHC Hub\n",
    "The nHC hub will comprise the following components\n",
    "\n",
    "1. Microcontroller chip\n",
    "2. radio chip\n",
    "3. gprs module\n",
    "4. wireless controller\n",
    "5. microstorage (sdcard)\n",
    "\n",
    "The block diagram for the hub is as follows:\n",
    "![Figure 1](https://selene.hud.ac.uk/u1273400/images/seg_media/hub_bd1.PNG)\n",
    "**Figure 7:** Block diagram for the hub sub-system"
   ]
  },
  {
   "cell_type": "markdown",
   "metadata": {
    "collapsed": true
   },
   "source": [
    "#### The Microcontroller chip\n",
    "\n",
    "The STM32L0 is the micrcocontroller of choice for the nHC project. This microcontroller, in addition to standard interfacing features to the outside world also offers low power features that are desirable for the nHC specification.\n",
    "\n",
    "#### The radio chip\n",
    "\n",
    "#### The sd-card\n",
    "\n",
    "#### The wireless controller\n",
    "<img src=\"https://selene.hud.ac.uk/u1273400/images/seg_media/e52.jpg\" width=\"200\">\n",
    "**Figure 8:** Wifi module\n",
    "<img src=\"https://selene.hud.ac.uk/u1273400/images/seg_media/e62.jpg\" width=\"200\">\n",
    "**Figure 9:** Wifi module\n",
    "\n",
    "#### GPRS module\n",
    "<img src=\"https://selene.hud.ac.uk/u1273400/images/seg_media/e12.jpg\" width=\"200\">\n"
   ]
  },
  {
   "cell_type": "markdown",
   "metadata": {},
   "source": [
    "## Bill of Quantities\n",
    "The summary of the items required for a single unit of the nHC project are as follows\n",
    "\n",
    "1. Microcontrollers x2\n",
    "2. radio chip x 2\n",
    "3. sd-card\n",
    "4. gprs module\n",
    "5. wifi module\n",
    "6. pr motion sensor\n",
    "7. temp/humidity sensor\n",
    "8. buzzer"
   ]
  },
  {
   "cell_type": "markdown",
   "metadata": {
    "collapsed": true
   },
   "source": [
    "### Cost of Equipment"
   ]
  },
  {
   "cell_type": "markdown",
   "metadata": {},
   "source": [
    "|    | Item                                            | Description                  | Price   |\n",
    "|----|-------------------------------------------------|------------------------------|---------|\n",
    "| 1  | [STM32L0](http://goo.gl/NYH8es)                 | Microcontroller              |   £3.03 |\n",
    "| 2  | [RF SOLUTIONS,ZETA-433](http://goo.gl/tCDqYV)   | 433 Mhz Radio module         |   £5.67 |\n",
    "| 3  | [MICROCHIP,MRF89XAM9A-I/RM](http://goo.gl/KUlhgn)| Sub-GHz radio module        |   £5.67 |\n",
    "| 4  | [MICROCHIP,MRF24J40MA-I/RM ](http://uk.farnell.com/microchip/mrf24j40ma-i-rm/rf-module-txrx-250kbps-pcb-ant/dp/1630202)                      | 2.5Ghz radio module          |   £5.64 |\n",
    "| 5  | [Buzzer](http://www.ebay.co.uk/itm/1-2-5-10-Electromagnetic-Piezo-Buzzer-Continous-Sound-Beep-Continuously-Alarm-5V-/162001865642?var=&hash=item25b8104baa:m:m70mr2ih7aV2JNHrad6P2tQ)                                          | Buzzer                       | £1.59   |\n",
    "| 6  | [IST INNOVATIVE SENSOR TECHNOLOGY,HYT 271,SENSOR](http://uk.farnell.com/ist-innovative-sensor-technology/hyt-271/sensor-humidity-digital-i2c/dp/2191823) | Temperature/ humidity sensor |  £26.49 |\n",
    "| 7  | [MURATA,IRA-E700ST0](http://uk.farnell.com/murata/ira-e700st0/sensor-infrared-15v/dp/1006209)                              | PIR motion sensor            | £2.38   |\n",
    "| 8  | [SEGGER,6.20.13 SD CARD ADAPTER](http://uk.farnell.com/segger/6-20-13-sd-card-adapter/sd-card-adaptor-eval-board/dp/2364762?selectedCategoryId=&exaMfpn=true&categoryId=&searchRef=SearchLookAhead)                  | SDCARD adapter               | £103.97 |\n",
    "| 9  | [TELIT WIRELESS SOLUTIONS,GE863GPS730,MODULE](http://uk.farnell.com/telit-wireless-solutions/ge863gps730/module-gsm-gprs-gps-quad-band/dp/1710715)     | GPRS module                  | £60.29  |\n",
    "| 10 | [MICROCHIP,MRF24WB0MA/RM](http://uk.farnell.com/microchip/mrf24wb0ma-rm/wifi-module-txrx-2-4ghz-pcb-ant/dp/1823142)                         | Wifi Module                  | £12.99  |"
   ]
  }
 ],
 "metadata": {
  "kernelspec": {
   "display_name": "Python 2",
   "language": "python",
   "name": "python2"
  },
  "language_info": {
   "codemirror_mode": {
    "name": "ipython",
    "version": 2
   },
   "file_extension": ".py",
   "mimetype": "text/x-python",
   "name": "python",
   "nbconvert_exporter": "python",
   "pygments_lexer": "ipython2",
   "version": "2.7.10"
  }
 },
 "nbformat": 4,
 "nbformat_minor": 0
}
