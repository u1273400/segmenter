{
 "cells": [
  {
   "cell_type": "markdown",
   "metadata": {},
   "source": [
    "# NEW WORKFLOW FOR COMPUTER SCIENCE RESEARCH\n",
    "\n",
    "## JOHN ALAMINA\n",
    "### NOVEMBER, 2015\n",
    "\n",
    "*\"Separation of concerns makes for good modular design - Can there be exceptions to this rule?\"*\n",
    "\n",
    "## Contents<a name=\"contents\"></a>\n",
    "\n",
    "1. [Prerequisites](#prerequisites)\n",
    "2. [Disclaimer](#disclaimer)\n",
    "3. [The new workflow](#workflow)\n",
    "4. [Jupyter](#jupyter)\n",
    "5. [Markdown](#markdown)\n",
    "6. [GIT & GitHub]](#git)\n",
    "7. [A case for Neural Networks](#case)\n",
    "8. [Keeping it simple - *hopefully*](#simple)\n",
    "9. [Concluding Remarks](#remarks)\n",
    "10. [Appendix I - Git commands](#A1)\n",
    "11. [Appendix II - Useful links]](#A2)\n",
    "\n",
    "\n",
    "## [Prerequisites](#contents)<a name=\"prerequisites\"></a>\n",
    "1. GIT\n",
    "2. GITHUB account\n",
    "\n",
    "## [Disclaimer](#contents)<a name=\"disclaimer\"></a>\n",
    "#### Warning this material is experimental and may appear to have content that may seem to be more of *academic hipsterism* and as such may not appear to find immediate advantage nor usability.  A middle ground is therefore sought at the end but this is only an attempt to find and evolutionary reason for adoption.\n",
    "\n",
    "## [The New Workflow](#contents)<a name=\"workflow\"></a>"
   ]
  },
  {
   "cell_type": "code",
   "execution_count": null,
   "metadata": {
    "collapsed": true
   },
   "outputs": [],
   "source": [
    "'''\n",
    "By way of introduction\n",
    "'''"
   ]
  },
  {
   "cell_type": "markdown",
   "metadata": {},
   "source": [
    "## [Jupyter](#contents)<a name=\"jupyter\"></a>\n",
    "Jupyter is an acronym that was formed from the fusion of three scripting languages being fused into one environment namely\n",
    "- Julia\n",
    "- Python and\n",
    "- R\n",
    "\n",
    "## [MarkDown](#contents)<a name=\"markdown\"></a>\n",
    "Markdown is a counter intuitive means of authoring documents on the web.\n",
    "\n",
    "## [GIT](#contents)<a name=\"git\"></a>"
   ]
  },
  {
   "cell_type": "markdown",
   "metadata": {},
   "source": [
    "\n",
    "## [A case for Neural Networks](#contents)<a name=\"case\"></a>"
   ]
  },
  {
   "cell_type": "markdown",
   "metadata": {},
   "source": [
    "## [Keeping it Simple - *hopefully*](#contents)<a name=\"simple\"></a>\n",
    "\n",
    "## [Concluding Remarks](#contents)<a name=\"remarks\"></a>\n",
    "\n",
    "## [Appendix I - Git Commands](#contents)<a name=\"A1\"></a>\n",
    "- git clone *url* (to make a local copy of a remote repository in an empty folder)\n",
    "\n",
    "## [Appendix  II - Useful Links](#contents)<a name=\"A2\"></a>\n",
    "- [Pandoc Installation](https://github.com/jgm/pandoc/releases/tag/1.15.2)\n",
    "- [MikTex Installation](http://miktex.org/download)\n",
    "- [Learn Git By Udacity](https://www.udacity.com/course/viewer#!/c-ud775/l-3105028581/e-3073678898/m-3073678899)\n",
    "- \n",
    "\n"
   ]
  }
 ],
 "metadata": {
  "kernelspec": {
   "display_name": "Python 2",
   "language": "python",
   "name": "python2"
  },
  "language_info": {
   "codemirror_mode": {
    "name": "ipython",
    "version": 2
   },
   "file_extension": ".py",
   "mimetype": "text/x-python",
   "name": "python",
   "nbconvert_exporter": "python",
   "pygments_lexer": "ipython2",
   "version": "2.7.10"
  }
 },
 "nbformat": 4,
 "nbformat_minor": 0
}
