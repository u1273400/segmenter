{
 "cells": [
  {
   "cell_type": "markdown",
   "metadata": {},
   "source": [
    "\n",
    "\n",
    "\n",
    "## Abstract\n",
    "Concatenative speech synthesis requires a speech database comprising of speech units. For a particular language a unique speech database will comprise all the various speech units of the language and will vary for different languages. Two crucial tasks for the formation of speech databases will be to determine the phonetic alphabet for the target language and the ability to phonetically transcribe speech from the target language into a formal orthographic system.\n",
    "\n",
    "This paper examines the different methods for preparing concatenative speech synthesis speech databases and proposes automatic means for determining the phonetic alphabet speech units as a reverse engineering method of automatically transcribing speech from a target language. In this paper French and Okrika were used as the target languages.\n"
   ]
  },
  {
   "cell_type": "markdown",
   "metadata": {
    "collapsed": true
   },
   "source": [
    "## <span style=\"color:00ff00\">Introduction</span>\n",
    "TTS by concatenative model requires speech segments to be concatenated to form audible speech in a text-to-speech implementation.  In order to achieve this, speech segments are created from pre-existing recordings.  The creation of this segment database is usually strenuous, time consuming and manual (Bigi, 2012; Goldman, 2011).\n",
    "\n",
    "\n",
    "### Aims\n",
    "\n",
    "The aim of this report will be to discover novel ways to automatically segment speech and discover the necessary segments or phonemes using DSP, NLP and machine learning methods.\n",
    "\n",
    "\n",
    "### Objectives\n",
    "- Generation of diphone/triphone-based segments\n",
    "- determination of unique di-phones and tri-phones\n",
    "- determination of phonemes\n",
    "- measure of correctness of phoneme determination\n",
    "- measure of closeness of diphones and phonemes\n",
    "- alternative means of diphone/triphone/phoneme classification.\n",
    "\n",
    "### Methods\n",
    "- test driven and integration approach\n",
    "- cross-correlation\n",
    "- speech acoustic analysis\n",
    "- analysis of speech segmentation tools\n",
    "- comparison of speech dsp methods\n",
    "- analysis/comparison of machine learning techniques\n"
   ]
  },
  {
   "cell_type": "markdown",
   "metadata": {},
   "source": [
    "## Literature\n",
    "\n",
    "### Java Speech API (JSAPI)\n",
    "\n",
    "The Java Speech API comprises speech engines. A speech engine can either be a synthesiser or a recogniser.\n",
    "\n",
    "#### relevance to the grand scheme of things\n",
    "\n",
    "The final speech segmenter and recogniser application will be implemented based upon the java speech API and as such, JSAPI tool forms as a background to the grand scheme of the overall implementation. \n",
    "\n",
    "\n",
    "#### Java speech markup language\n",
    "\n",
    "This comprises production elements, structural elements and other miscellaneous elements"
   ]
  },
  {
   "cell_type": "markdown",
   "metadata": {},
   "source": [
    "\n",
    "### z-Transform\n",
    "\n",
    "The z-transform is a constrained version of the Discrete Time Fourier\n",
    "Transform(DTFT). If we compare the DTFT to the z-transform, equations (1) and\n",
    "(2) below\n",
    "\n",
    "$$\n",
    "X(z)= \\sum \\limits_{n=\\infty }^{\\infty}{x[n]z^{-n}} \n",
    "$$\n",
    "\n",
    "[@equation1]\n",
    "\n",
    "$$\n",
    "X(z)= \\sum_{n=-\\infty }^{\\infty}x[n]e^{-j\\omega n} \n",
    "$$\n",
    "\n",
    "[@equation2]\n",
    "\n",
    "We find essentially that the z transform is the DTFT constrained to\n",
    "$z=e^{j\\omega n}$.\n",
    "\n",
    "It can be shown that the z-operator is a linear operator and that the weighted\n",
    "time-shifted timed function is transferable between the signal and it’s\n",
    "transform, that is:\n",
    "\n",
    "$$\n",
    "\\sum_{n=-\\infty }^{\\infty}kx[n]e^{-j\\omega n}=k \\sum_{n=-\\infty }^{\\infty}x[n]e^{-j\\omega n} \n",
    "$$\n",
    "\n",
    "#### Region of Convergence\n",
    "\n",
    "We also define a property of the z-transform called the Region of Convergence\n",
    "which is the values of z for which there exists a z-transform.\n"
   ]
  },
  {
   "cell_type": "markdown",
   "metadata": {},
   "source": [
    "## References\n",
    "\n",
    "Bigi, Brigitte. \"SPPAS: a tool for the phonetic segmentations of Speech.\" The eighth international conference on Language Resources and Evaluation. 2012.\n",
    "\n",
    "Goldman, Jean-Philippe. \"EasyAlign: an automatic phonetic alignment tool under Praat.\" (2011).\n"
   ]
  }
 ],
 "metadata": {
  "kernelspec": {
   "display_name": "Python 2",
   "language": "python",
   "name": "python2"
  },
  "language_info": {
   "codemirror_mode": {
    "name": "ipython",
    "version": 2
   },
   "file_extension": ".py",
   "mimetype": "text/x-python",
   "name": "python",
   "nbconvert_exporter": "python",
   "pygments_lexer": "ipython2",
   "version": "2.7.10"
  }
 },
 "nbformat": 4,
 "nbformat_minor": 0
}
