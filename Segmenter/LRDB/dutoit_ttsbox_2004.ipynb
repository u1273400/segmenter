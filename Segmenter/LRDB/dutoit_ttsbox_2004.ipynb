{
 "cells": [
  {
   "cell_type": "markdown",
   "metadata": {},
   "source": [
    "\n",
    "## Title  \n",
    "TTSBOX: a MATLAB toolbox for teaching text-to-speech synthesis\n",
    "\n",
    "## Aims ##\n",
    "Hands on Exposure to TTS using MATLAB.  \n",
    "\n",
    "## Key Concepts ##\n",
    "SEGMENTATION TOOL, SEGMENTATION ALGORITHMS, TTS, \n",
    "\n",
    "## Finding ##\n",
    "- Consists of the folloing modules\n",
    " 1. preprocessor using fsm\n",
    " 2. morphological analyser using lexicon\n",
    " 3. bigram pos-tagger\n",
    " 4. phrase determiner using chinks and chunks\n",
    " 5. phonetization using cart\n",
    " 6. target sequence units and unit selection\n",
    " 7. unit concatenator.\n",
    "\n",
    "- Steps for TTS process involve\n",
    " 1. Morpho-syntactic analysis\n",
    "  a. preprocessing\n",
    "  b. morphological analysis\n",
    "  c. contextual analysis\n",
    "  d. syntactic-prosodic grouping\n",
    " 2. Phonetization using decision trees\n",
    " 3. Prosody Generation\n",
    " 4. Catenative Synthesis\n"
   ]
  },
  {
   "cell_type": "markdown",
   "metadata": {},
   "source": [
    "### Preprocessing\n",
    "\n",
    "\n",
    "### Morphological Analysis\n",
    "\n",
    "### Contextual Analysis\n",
    "\n",
    "### Syntactic prosodic grouping\n",
    "\n",
    "### Ponetization using decision trees\n",
    "\n",
    "### Prosody Generation\n",
    "\n",
    "### Catenative Synthesis\n"
   ]
  },
  {
   "cell_type": "markdown",
   "metadata": {
    "collapsed": true
   },
   "source": [
    "## Limitation ##\n",
    "\n",
    "\n",
    "## Relation ##\n",
    "\n",
    "\n",
    "## Comment ##\n",
    "\n",
    "List of m-files and variables include\n",
    "1. strtok\n",
    "2. tts_preprocess_using_fsm\n",
    "3. corpus_to_lexicons\n",
    "4. genglish_morphflex\n",
    "5. corpus_to_lexicons\n",
    "6. lexicon_search\n",
    "7. tts_morph_using_lexicons\n",
    "8. lattice_get_all_paths\n",
    "9. tts_tag_using_bigrams\n",
    "10. genglish_test_bigrams\n",
    "11. genglish_load_chinksnchunks\n",
    "12. tts_phrase_using_chinksnchunks\n",
    "13. genglish_test_chinksnchunks\n",
    "14. cart_run\n",
    "15. tts_phonetize_using_cart\n",
    "16. genglish_test_cart\n",
    "17. corpus_to_speech_corpus\n",
    "18. tts_set_targets\n",
    "19. tts_select_units\n",
    "20. tts_concatenate_using_xcorr\n"
   ]
  },
  {
   "cell_type": "markdown",
   "metadata": {},
   "source": [
    "## REFERENCE ##\n",
    "Dutoit, T., & Cernak, M. (2005). TTSBOX: a MATLAB toolbox for teaching text-to-speech synthesis . Proceedings. (ICASSP ’05). IEEE International Conference on Acoustics, Speech, and Signal Processing, 2005 . IEEE . http://doi.org/10.1109/ICASSP.2005.1416359 \n"
   ]
  }
 ],
 "metadata": {
  "kernelspec": {
   "display_name": "Python 2",
   "language": "python",
   "name": "python2"
  },
  "language_info": {
   "codemirror_mode": {
    "name": "ipython",
    "version": 2
   },
   "file_extension": ".py",
   "mimetype": "text/x-python",
   "name": "python",
   "nbconvert_exporter": "python",
   "pygments_lexer": "ipython2",
   "version": "2.7.10"
  }
 },
 "nbformat": 4,
 "nbformat_minor": 0
}
