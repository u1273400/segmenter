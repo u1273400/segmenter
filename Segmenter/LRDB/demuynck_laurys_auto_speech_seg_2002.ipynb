{
 "cells": [
  {
   "cell_type": "markdown",
   "metadata": {},
   "source": [
    "\n",
    "## Title  \n",
    "A comparison of different approaches to automatic speech segmentation. In Text, Speech and Dialogue (pp. 277-284)\n",
    "\n",
    "## Aims ##\n",
    "Comparison of manual methods of segmentation to the following automatic methods\n",
    "1. Viberti algorithm\n",
    "2. Forward-backward algorithm\n",
    "3. Manual-auto adjustments\n",
    "\n",
    "## Key Concepts ##\n",
    "SEGMENTATION ALGORITHMS, ML\n",
    "\n",
    "## Finding ##\n",
    "- In a large body of speech recordings or speech corpora, timestamps can be used to provide segment annotation\n",
    "- Segments can be selected based on acoustic features of the recording\n",
    "\n",
    "### Segmentation Types\n",
    "1. Acoustic model based segmentation\n",
    "2. Transcript based …\n",
    "3. Orthography based\n"
   ]
  },
  {
   "cell_type": "markdown",
   "metadata": {},
   "source": [
    "### Orthography based segmentation\n",
    "Includes the following Phases\n",
    "1. Phonetic transcriptions based on speech recognition\n",
    "2. Phonetic representation matching\n",
    "\n",
    "#### Phase 1: Phonetic Transcription\n",
    "This involves\n",
    "##### Grapheme2Phoneme Transcription: #####\n",
    "Involved a pronunciation dictionary of about 200000 entries and training was based on Induction Decision Tree (ID3) mechanism.\n",
    "##### Lexicon Matching: #####\n",
    "The lexicon was done based on word-level segmentation.  However this research is phoneme-based.\n",
    "\n",
    "#### Phase 2: Segment Matching ####\n",
    "This was done using the following algorithms\n",
    "##### Viterbi Segmentation #####\n",
    "This is a hidden markov model (HMM) finite state machine (FSM) such that the best state-path is returned when given an input speech signal $ x_1^T $ or a corresponding sequence of feature vectors. Thus\n",
    "$$ s_i^T=arg max_{s_I^T\\subset S}\\prod_{i=1}^Tf(x_i|s_i)p(s_i|s_{i+1}) $$\n",
    "\n",
    "##### Forward-backward Segmentation #####\n",
    "*The Viterbi algorithm provides an approximation of the quantity being searched for in figure 1 below*\n",
    "![](http://selene.hud.ac.uk/u1273400/images/seg_media/viterbi.PNG)\n",
    "*The Viterbi algorithm generates the boundary corresponding to (1), whereas the optimal boundary in a least squares sense matches up with (2).  To find the best possible estimate of the boundary in least squares sense the probaility function of each boundary must be calculates as follows*\n",
    "$$ P(b|S,x_1^T)=\\frac{f(x_1^b|S_l)f(x_{b+1}^T|S_r)}{f(x_1^T|S)} $$\n",
    "with\n",
    "$$ f(x_a^b|S_x)=\\sum_{s_a^b \\subset S_x}\\prod_{i=a}^b f(x_i|s_i)^{1/\\beta}p(s_i|s_{i+1})^{1/\\beta} $$\n",
    "\n",
    "*In the above equations, sentence S is divided in part S<sub>l</sub> left and part S<sub>r</sub> right of the boundary of interest.  The extra parameter $\\beta$ compensates for the ill-matched assumption made by HMMs that the observations $x_i$ are independent.  The optimal value for $\\beta$ in our experiments was 10, but its exact value was not at all critical.  The same compensation factor is found in recognition systems as well as confidence scoring of recognized words.  Given the probability desnity function, the least squares estimate now equals:\n",
    "$$ E{b}=\\sum_{b=1}^T P(b|S,x_1^T)b. $$\n",
    "\n",
    "### Post Processing\n",
    "Demuynck & Laureys (2002) also observed that errors can be introduced to the algorithm from the following sources\n",
    "1. Broken-off Words *also with broken off orthography*\n",
    "2. Mispronounced words\n",
    "3. Dialectical pronunciations\n",
    "4. cross-word phonetical phenomena *such as assimilation, degemenation and inserted linking phonemes*\n",
    "\n",
    "These can be handled by a context sensitive knowledge base read-write rules.  In addition post processing could be used to remove biases in boundary detection between human and hmm cues."
   ]
  },
  {
   "cell_type": "markdown",
   "metadata": {
    "collapsed": true
   },
   "source": [
    "## Limitation ##\n",
    "Uses phonetic transcriptions\n",
    "\n",
    "## Relation ##\n",
    "Segmentation algorithms\n",
    "\n",
    "## Comment ##\n",
    "\n",
    "Demuynck, K., & Laureys (2002) use 2 algorithms to compare manual speech segmentation to automatic speech segmentation.  Both algorithms requires the use of Hidden Markov Models.  The strength of these methods is also a  weakness.  It uses dependent probability to more accurately determine the predicted value based on trained data.  The more dependencies the more accurate the prediction will be within the limit of accuracy.\n",
    "\n",
    "\n",
    "\n",
    "## REFERENCE ##\n",
    "\n",
    "Demuynck, K., & Laureys, T. (2002, January). A comparison of different approaches to automatic speech segmentation. In Text, Speech and Dialogue (pp. 277-284). Springer Berlin Heidelberg.\n"
   ]
  }
 ],
 "metadata": {
  "kernelspec": {
   "display_name": "Python 2",
   "language": "python",
   "name": "python2"
  },
  "language_info": {
   "codemirror_mode": {
    "name": "ipython",
    "version": 2
   },
   "file_extension": ".py",
   "mimetype": "text/x-python",
   "name": "python",
   "nbconvert_exporter": "python",
   "pygments_lexer": "ipython2",
   "version": "2.7.10"
  }
 },
 "nbformat": 4,
 "nbformat_minor": 0
}
