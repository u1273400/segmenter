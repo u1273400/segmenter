{
 "cells": [
  {
   "cell_type": "markdown",
   "metadata": {},
   "source": [
    "## Robustness in speech recognition\n",
    "\n",
    "Sources of speech variation originates from four classifications:\n",
    "1. Noise\n",
    "2. Distortion\n",
    "3. Articular effects\n",
    "4. Pronounciation variation\n",
    "\n",
    "Techniques to overcome variation include the following:\n",
    "1. Additive noise and linear distortion model\n",
    "2. Cepstral compensation algorithms\n",
    "3. Speech enhancement algorithms\n",
    "4. Adaptation of model parameters"
   ]
  }
 ],
 "metadata": {
  "kernelspec": {
   "display_name": "R",
   "language": "R",
   "name": "ir"
  },
  "language_info": {
   "codemirror_mode": "r",
   "file_extension": ".r",
   "mimetype": "text/x-r-source",
   "name": "R",
   "pygments_lexer": "r",
   "version": "3.2.2"
  }
 },
 "nbformat": 4,
 "nbformat_minor": 0
}
