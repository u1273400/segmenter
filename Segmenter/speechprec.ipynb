{
 "cells": [
  {
   "cell_type": "markdown",
   "metadata": {},
   "source": [
    "## SPEECH RECOGNITION\n",
    "\n",
    "*The main requirement for speech recogntion is the extraction of voice features, which may distinguish different phonemes of a language.  From a statistical point of view, this procedure is equivalent to finding a sofficient statistic to estimate phonemes*(Becchetti & Ricotti, 1998).\n"
   ]
  },
  {
   "cell_type": "markdown",
   "metadata": {},
   "source": [
    "## References\n",
    "\n",
    "Becchetti, C., & Ricotti, L. P. (1998). Speech recognition: theory and C++ implementation. New York: Wiley. \n",
    "\n"
   ]
  }
 ],
 "metadata": {
  "kernelspec": {
   "display_name": "R",
   "language": "R",
   "name": "ir"
  },
  "language_info": {
   "codemirror_mode": "r",
   "file_extension": ".r",
   "mimetype": "text/x-r-source",
   "name": "R",
   "pygments_lexer": "r",
   "version": "3.2.2"
  }
 },
 "nbformat": 4,
 "nbformat_minor": 0
}
